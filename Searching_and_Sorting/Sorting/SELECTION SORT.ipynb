{
 "cells": [
  {
   "cell_type": "markdown",
   "id": "1abac8ff-a0c5-43d2-ae20-9fbaca106699",
   "metadata": {},
   "source": [
    "## SELECTION SORT"
   ]
  },
  {
   "cell_type": "markdown",
   "id": "ea38a88d-9094-4b66-9912-13c238577567",
   "metadata": {},
   "source": [
    "## KEY IDEA OR ALGORITHM"
   ]
  },
  {
   "cell_type": "code",
   "execution_count": 3,
   "id": "d56ce581-ecd3-4bff-a790-ed6030f0cbf4",
   "metadata": {},
   "outputs": [],
   "source": [
    "# Selection_sort(list):\n",
    "# 1)size=len of list\n",
    "# 2)for i=0 to size-1,do\n",
    "#       min=list[i]\n",
    "#     posn=i\n",
    "#     for j=0 to range(i+1,size),do\n",
    "#         if list[j]<min\n",
    "#            min=list[j]\n",
    "#            posn=j\n",
    "#      if i!=posn, then\n",
    "#          set temp=list[i]\n",
    "#        set list[i]=liost[posn]\n",
    "#        set list[posn]=temp\n",
    "# 3)exit"
   ]
  },
  {
   "cell_type": "markdown",
   "id": "041a547f-3b0c-4b78-b85e-4dd2c9f4357f",
   "metadata": {},
   "source": [
    "## CODE"
   ]
  },
  {
   "cell_type": "code",
   "execution_count": 2,
   "id": "6b5f7ee1-17d4-4108-b0ac-4f2500e1a9a6",
   "metadata": {},
   "outputs": [
    {
     "name": "stdout",
     "output_type": "stream",
     "text": [
      "Sorted array: [11, 12, 22, 25, 64]\n"
     ]
    }
   ],
   "source": [
    "def selection_sort(lst):\n",
    "    size = len(lst)\n",
    "    for i in range(size - 1):  # Loop through the list\n",
    "        min_value = lst[i]\n",
    "        posn = i\n",
    "        \n",
    "        for j in range(i + 1, size):  # Find the minimum element\n",
    "            if lst[j] < min_value:\n",
    "                min_value = lst[j]\n",
    "                posn = j\n",
    "        \n",
    "        if i != posn:  # Swap only if a smaller element is found\n",
    "            temp = lst[i]\n",
    "            lst[i] = lst[posn]\n",
    "            lst[posn] = temp\n",
    "\n",
    "# Example usage\n",
    "arr = [64, 25, 12, 22, 11]\n",
    "selection_sort(arr)\n",
    "print(\"Sorted array:\", arr)\n"
   ]
  },
  {
   "cell_type": "code",
   "execution_count": null,
   "id": "d5d0ffb9-f8ec-40fa-b98b-ffbe46fa8d3f",
   "metadata": {},
   "outputs": [],
   "source": []
  }
 ],
 "metadata": {
  "kernelspec": {
   "display_name": "Python 3 (ipykernel)",
   "language": "python",
   "name": "python3"
  },
  "language_info": {
   "codemirror_mode": {
    "name": "ipython",
    "version": 3
   },
   "file_extension": ".py",
   "mimetype": "text/x-python",
   "name": "python",
   "nbconvert_exporter": "python",
   "pygments_lexer": "ipython3",
   "version": "3.12.4"
  }
 },
 "nbformat": 4,
 "nbformat_minor": 5
}
