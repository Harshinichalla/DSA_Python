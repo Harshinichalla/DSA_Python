{
 "cells": [
  {
   "cell_type": "markdown",
   "id": "ee4a5c16-5104-404b-ba5d-09b8b422d760",
   "metadata": {},
   "source": [
    "## BUBBLE SORT"
   ]
  },
  {
   "cell_type": "code",
   "execution_count": 2,
   "id": "691a2bc6-3bef-4ea7-b51d-6d9b9e06fb75",
   "metadata": {},
   "outputs": [],
   "source": [
    "#BUBBLE SORT MEANS THE ADJACENT ELEMENTS ARE COMPARED"
   ]
  },
  {
   "cell_type": "markdown",
   "id": "f8399179-dc30-4bf5-aed9-66084d58d283",
   "metadata": {},
   "source": [
    "## KEY IDEA"
   ]
  },
  {
   "cell_type": "code",
   "execution_count": 4,
   "id": "9c9c6013-4527-42ba-9d5f-0786f334711d",
   "metadata": {},
   "outputs": [],
   "source": [
    "# bubble_sort(list):\n",
    "# 1)size=len of list\n",
    "# 2)for i=0 to size-1 , then\n",
    "#       for j=0 \n",
    "#        if list[i]>list[i+1],then\n",
    "#           set temp =list[i]\n",
    "#           set list[i]=list[i+1]\n",
    "#           set list[i+1]= temp\n",
    "# 3)Exit"
   ]
  },
  {
   "cell_type": "markdown",
   "id": "806354f2-4cc0-4743-8776-d947bbef730a",
   "metadata": {},
   "source": [
    "## CODE"
   ]
  },
  {
   "cell_type": "code",
   "execution_count": 6,
   "id": "72b811fd-1b7d-46ae-bce1-f581a0c9d272",
   "metadata": {},
   "outputs": [
    {
     "name": "stdout",
     "output_type": "stream",
     "text": [
      "[12, 34, 45, 52, 88, 90]\n"
     ]
    }
   ],
   "source": [
    "def bubble_sort(arr):\n",
    "    size =len(arr)\n",
    "    for i in range(size-1):\n",
    "        for j in range(size-1-i):\n",
    "            if arr[j]>arr[j+1]:\n",
    "                temp=arr[j]\n",
    "                arr[j]=arr[j+1]\n",
    "                arr[j+1]=temp\n",
    "    return arr\n",
    "arr=[12,88,45,90,52,34]\n",
    "print(bubble_sort(arr))"
   ]
  },
  {
   "cell_type": "code",
   "execution_count": null,
   "id": "32c95347-b84e-4ee8-ace2-400966cfb761",
   "metadata": {},
   "outputs": [],
   "source": []
  }
 ],
 "metadata": {
  "kernelspec": {
   "display_name": "Python 3 (ipykernel)",
   "language": "python",
   "name": "python3"
  },
  "language_info": {
   "codemirror_mode": {
    "name": "ipython",
    "version": 3
   },
   "file_extension": ".py",
   "mimetype": "text/x-python",
   "name": "python",
   "nbconvert_exporter": "python",
   "pygments_lexer": "ipython3",
   "version": "3.12.4"
  }
 },
 "nbformat": 4,
 "nbformat_minor": 5
}
