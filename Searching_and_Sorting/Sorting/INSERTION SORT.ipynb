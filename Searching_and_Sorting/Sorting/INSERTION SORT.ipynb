{
 "cells": [
  {
   "cell_type": "markdown",
   "id": "0b48a4ef-7034-493c-a120-e474e59194c4",
   "metadata": {},
   "source": [
    "## INSERTION SORT"
   ]
  },
  {
   "cell_type": "markdown",
   "id": "c96763c3-221a-44fd-8503-7b35bc970107",
   "metadata": {},
   "source": [
    "## KEY IDEA"
   ]
  },
  {
   "cell_type": "code",
   "execution_count": 1,
   "id": "b4ab3fd6-8373-4039-a00f-0599f6d76a4f",
   "metadata": {},
   "outputs": [],
   "source": [
    "#each element is inserted in the position \n",
    "# insertion_sort(list):\n",
    "#  1)size=len(list)  \n",
    "#  2)for i=1 to size-1 ,do\n",
    "#         temp=list[i]\n",
    "#         j=i-1\n",
    "#         while temp<list[j] and j>=0 ,do\n",
    "#              list[j+1]=list[j]\n",
    "#              j=j-1\n",
    "#         list[j+1]=temp\n",
    "#  3)exit\n",
    "\n",
    "#best case:o(n)\n",
    "#worst case:o(n^2)"
   ]
  },
  {
   "cell_type": "markdown",
   "id": "78386ed2-bddf-417b-8875-a20a0f3f585a",
   "metadata": {},
   "source": [
    "## CODE"
   ]
  },
  {
   "cell_type": "code",
   "execution_count": 12,
   "id": "f7e58378-e0cd-4db7-a57d-8cbb67528fd0",
   "metadata": {},
   "outputs": [
    {
     "name": "stdout",
     "output_type": "stream",
     "text": [
      "[12, 32, 34, 56, 80, 89, 89]\n"
     ]
    }
   ],
   "source": [
    "def insertion_sort(list):\n",
    "    size =len(list)\n",
    "    for i in range (1,size):\n",
    "        temp=list[i]\n",
    "        j=i-1\n",
    "        while temp<list[j] and j>=0:\n",
    "            list[j+1]=list[j]\n",
    "            j=j-1\n",
    "        list[j+1]=temp\n",
    "list=[12,89,34,89,32,80,56]\n",
    "insertion_sort(list)\n",
    "print(list)"
   ]
  },
  {
   "cell_type": "code",
   "execution_count": 14,
   "id": "0ac4428a-5809-4ec6-bb3d-d0a80e6d0046",
   "metadata": {},
   "outputs": [
    {
     "name": "stdout",
     "output_type": "stream",
     "text": [
      "[1, 2, 5, 5, 6, 9]\n"
     ]
    }
   ],
   "source": [
    "list=[5,2,9,1,5,6]\n",
    "insertion_sort(list)\n",
    "print(list)"
   ]
  },
  {
   "cell_type": "code",
   "execution_count": 20,
   "id": "c58c73a4-1d24-4780-8d5e-1311d4aeb117",
   "metadata": {},
   "outputs": [
    {
     "data": {
      "text/plain": [
       "[1, 2, 10, 12, 19, 23, 27, 32, 35, 43, 43, 46, 57, 63, 68, 95]"
      ]
     },
     "execution_count": 20,
     "metadata": {},
     "output_type": "execute_result"
    }
   ],
   "source": [
    "list=[10,19,23,35,46,57,68,32,43,95,63,27,12,2,43,1]\n",
    "insertion_sort(list)\n",
    "list"
   ]
  },
  {
   "cell_type": "code",
   "execution_count": null,
   "id": "5acef68d-bbc4-469c-a273-3f78a5a12317",
   "metadata": {},
   "outputs": [],
   "source": []
  }
 ],
 "metadata": {
  "kernelspec": {
   "display_name": "Python 3 (ipykernel)",
   "language": "python",
   "name": "python3"
  },
  "language_info": {
   "codemirror_mode": {
    "name": "ipython",
    "version": 3
   },
   "file_extension": ".py",
   "mimetype": "text/x-python",
   "name": "python",
   "nbconvert_exporter": "python",
   "pygments_lexer": "ipython3",
   "version": "3.12.4"
  }
 },
 "nbformat": 4,
 "nbformat_minor": 5
}
