{
 "cells": [
  {
   "cell_type": "markdown",
   "id": "a5ce6869-cc5e-4ab0-9cff-21129f770dce",
   "metadata": {},
   "source": [
    "## MERGE SORT"
   ]
  },
  {
   "cell_type": "code",
   "execution_count": null,
   "id": "ea761ed0-50d2-400d-9591-42849e9e1bbf",
   "metadata": {},
   "outputs": [],
   "source": [
    "# Merge sort and quick sort==>it follows the divide andconquer (partition )strategy"
   ]
  },
  {
   "cell_type": "code",
   "execution_count": 2,
   "id": "085b13fe-bba5-473d-ace6-99f0fd16b2c0",
   "metadata": {},
   "outputs": [],
   "source": [
    "#merge sort==>the two sorted arrays is to be merged"
   ]
  },
  {
   "cell_type": "markdown",
   "id": "f7de1b3d-8406-44fd-8ddb-b8829a755a73",
   "metadata": {},
   "source": [
    "## KEY IDEA"
   ]
  },
  {
   "cell_type": "code",
   "execution_count": null,
   "id": "9a39eb8f-0c1f-4907-85d0-b1ac4395d7f6",
   "metadata": {},
   "outputs": [],
   "source": [
    "# two algorithms 1)sorting 2)merging"
   ]
  },
  {
   "cell_type": "code",
   "execution_count": null,
   "id": "0d57ef53-7c68-4508-9e7f-b964ce106249",
   "metadata": {},
   "outputs": [],
   "source": [
    "#SORTING:"
   ]
  },
  {
   "cell_type": "code",
   "execution_count": null,
   "id": "e7455d06-7148-4505-ba2d-ec3718467cc2",
   "metadata": {},
   "outputs": [],
   "source": [
    "# 1)merge_sort(arr,left,right):\n",
    "#     if left<right,then\n",
    "#        set mid=(left+right)//2\n",
    "#         call merge_sort(arr,left,mid)\n",
    "#         call merge_sort(arr,mid+1,right)\n",
    "#         merge_list(arr,left,mid,mid+1,right)\n",
    "# 2)exit"
   ]
  },
  {
   "cell_type": "code",
   "execution_count": 5,
   "id": "66d26adc-2958-47a8-8487-e28d04d8a259",
   "metadata": {},
   "outputs": [],
   "source": [
    "# MERGING:"
   ]
  },
  {
   "cell_type": "code",
   "execution_count": 7,
   "id": "5a668a1b-9691-42a3-b36e-6368e6e05b4b",
   "metadata": {},
   "outputs": [],
   "source": [
    "#  merge_list(arr,left,lend,rend,right):\n",
    "# 1)create an empty list named temp\n",
    "#  2)set i=left\n",
    "#   3) set j=right\n",
    "#   4)while i<=lend and j<=rend ,do\n",
    "#     a) if arr[i]<arr[j] ,then\n",
    "#            append arr[i], then temp\n",
    "#                set i=i+1\n",
    "#      b)else:\n",
    "#           append arr[j] into temp\n",
    "#            set j=j+1\n",
    "#    5)while i<=lend ,do\n",
    "#          append arr[i] into temp\n",
    "#          set i=i+1\n",
    "# 6)while j<=rend ,do\n",
    "#     append arr[j] into temp\n",
    "#      set j=j+1\n",
    "# 7)set j=0\n",
    "# 8)for i=lst to rend ,do\n",
    "#      a)set arr[i]=temp[j]\n",
    "#      b)set j=j+1\n",
    "# 9)end"
   ]
  },
  {
   "cell_type": "code",
   "execution_count": null,
   "id": "f632ef00-7c14-4b45-b2dc-99be9f8a093c",
   "metadata": {},
   "outputs": [],
   "source": [
    "#TIME COMPLEXITY===========>worst case =o(n log n)"
   ]
  },
  {
   "cell_type": "markdown",
   "id": "85131c7c-5421-4b3a-89ff-18dbc47bd355",
   "metadata": {},
   "source": [
    "## CODE"
   ]
  },
  {
   "cell_type": "code",
   "execution_count": 17,
   "id": "51024570-67c3-4c77-9519-b84c08bac0d3",
   "metadata": {},
   "outputs": [
    {
     "name": "stdout",
     "output_type": "stream",
     "text": [
      "[10, 12, 23, 34, 43, 56, 67, 76, 89, 97]\n"
     ]
    }
   ],
   "source": [
    "def merge_sort(arr,left,right):\n",
    "    if left< right:\n",
    "       mid=(left+right)//2\n",
    "       merge_sort(arr,left,mid)\n",
    "       merge_sort(arr,mid+1,right)\n",
    "       merge_list(arr,left,mid,mid+1,right)\n",
    "def merge_list(arr,left,lend,rend,right):\n",
    "    temp=[]\n",
    "    i=left\n",
    "    j=rend\n",
    "    while i<=lend and j<=right:\n",
    "        if arr[i]<arr[j]:\n",
    "            temp.append(arr[i])\n",
    "            i+=1\n",
    "    \n",
    "        else:\n",
    "            temp.append(arr[j])\n",
    "            j+=1\n",
    "    while i<=lend:\n",
    "        temp.append(arr[i])\n",
    "        i+=1\n",
    "    while j<=right:\n",
    "        temp.append(arr[j])\n",
    "        j+=1\n",
    "    j=0\n",
    "    for i in range(left,right+1):\n",
    "        arr[i]=temp[j]\n",
    "        j+=1\n",
    "arr=[12,34,56,43,76,89,67,10,97,23]\n",
    "merge_sort(arr,0,len(arr)-1)\n",
    "print(arr)"
   ]
  },
  {
   "cell_type": "code",
   "execution_count": 21,
   "id": "20133bb4-4d81-4c49-b1d0-1d96ba355bde",
   "metadata": {},
   "outputs": [],
   "source": [
    "def merge_sort(arr,left,right):\n",
    "    if left< right:\n",
    "       mid=(left+right)//2\n",
    "       merge_sort(arr,left,mid)\n",
    "       merge_sort(arr,mid+1,right)\n",
    "       merge_list(arr,left,mid,mid+1,right)"
   ]
  },
  {
   "cell_type": "code",
   "execution_count": 23,
   "id": "6c7c64a0-bc13-40d0-b557-ef9bb95b2ebc",
   "metadata": {},
   "outputs": [],
   "source": [
    "def merge_list(arr,left,lend,rend,right):\n",
    "    temp=[]\n",
    "    i=left\n",
    "    j=rend\n",
    "    while i<=lend and j<=right:\n",
    "        if arr[i]<arr[j]:\n",
    "            temp.append(arr[i])\n",
    "            i+=1\n",
    "    \n",
    "        else:\n",
    "            temp.append(arr[j])\n",
    "            j+=1\n",
    "    while i<=lend:\n",
    "        temp.append(arr[i])\n",
    "        i+=1\n",
    "    while j<=right:\n",
    "        temp.append(arr[j])\n",
    "        j+=1\n",
    "    j=0\n",
    "    for i in range(left,right+1):\n",
    "        arr[i]=temp[j]\n",
    "        j+=1"
   ]
  },
  {
   "cell_type": "code",
   "execution_count": 25,
   "id": "4898b275-6fea-4b95-a6ba-8a9c1ca5c00a",
   "metadata": {},
   "outputs": [
    {
     "name": "stdout",
     "output_type": "stream",
     "text": [
      "[10, 12, 23, 34, 43, 56, 67, 76, 89, 97]\n"
     ]
    }
   ],
   "source": [
    "arr=[12,34,56,43,76,89,67,10,97,23]\n",
    "merge_sort(arr,0,len(arr)-1)\n",
    "print(arr)"
   ]
  },
  {
   "cell_type": "code",
   "execution_count": null,
   "id": "f33dd711-6b1b-40e9-b6a7-acd0d7e497db",
   "metadata": {},
   "outputs": [],
   "source": []
  }
 ],
 "metadata": {
  "kernelspec": {
   "display_name": "Python 3 (ipykernel)",
   "language": "python",
   "name": "python3"
  },
  "language_info": {
   "codemirror_mode": {
    "name": "ipython",
    "version": 3
   },
   "file_extension": ".py",
   "mimetype": "text/x-python",
   "name": "python",
   "nbconvert_exporter": "python",
   "pygments_lexer": "ipython3",
   "version": "3.12.4"
  }
 },
 "nbformat": 4,
 "nbformat_minor": 5
}
