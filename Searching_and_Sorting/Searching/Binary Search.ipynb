{
 "cells": [
  {
   "cell_type": "markdown",
   "id": "b3e2ee09-c406-49a5-9cfb-81c674bc3ea9",
   "metadata": {},
   "source": [
    "## Binary Search"
   ]
  },
  {
   "cell_type": "markdown",
   "id": "de88ea26-2454-4cd1-84c9-e145a14bd61b",
   "metadata": {},
   "source": [
    "## QUESTION"
   ]
  },
  {
   "cell_type": "raw",
   "id": "615770e8-364e-40cb-8628-9a8bd479c8a2",
   "metadata": {},
   "source": [
    "You are given a sorted array of integers where every element appears exactly twice, except for one element which appears only once. \n",
    "Write a Python program to find that unique element using Binary Search. \n",
    "Input: arr = [1, 1, 2, 2, 3, 3, 4, 5, 5] \n",
    "Binary Search: Implement an optimized binary search algorithm to find the unique element in O(log n) time, exploiting the fact that the array is sorted. "
   ]
  },
  {
   "cell_type": "markdown",
   "id": "8a4a1e14-1ac1-4fb9-9b96-5ae6c4d99ae5",
   "metadata": {},
   "source": [
    "## KEY IDEA"
   ]
  },
  {
   "cell_type": "raw",
   "id": "c0688f34-736b-480f-8137-369d5aaef9bd",
   "metadata": {},
   "source": [
    "Binary_search(list,key_value):\n",
    " 1)set low=0\n",
    " 2)set high =length of the list-1\n",
    " 3)while low<high:\n",
    "    mid=(low+high)/2\n",
    "    if key_value==list[mid] ,then\n",
    "      return mid\n",
    "     elif key_value<list[mid], then\n",
    "      high=mid-1\n",
    "    else\n",
    "         low=mid+1\n",
    "4)return -1"
   ]
  },
  {
   "cell_type": "markdown",
   "id": "9e281782-681b-4cc4-af4e-16ff28102474",
   "metadata": {},
   "source": [
    "## CODE"
   ]
  },
  {
   "cell_type": "code",
   "execution_count": 1,
   "id": "cc5d4155-b897-49d9-8917-e8e1d9b19be3",
   "metadata": {},
   "outputs": [],
   "source": [
    "def binary_search(arr,key_value):\n",
    "    low=0\n",
    "    high=len(arr)-1\n",
    "    while low<=high:\n",
    "        mid=(low+high)//2\n",
    "        if key_value==arr[mid]:\n",
    "            return mid\n",
    "        elif key_value<arr[mid]:\n",
    "            high =mid-1\n",
    "        else:\n",
    "            low=mid+1\n",
    "    return -1"
   ]
  },
  {
   "cell_type": "code",
   "execution_count": 12,
   "id": "4be61e67-df07-4cf4-93c0-a90d3e3b1645",
   "metadata": {},
   "outputs": [
    {
     "name": "stdin",
     "output_type": "stream",
     "text": [
      "Enter the elements: 1 1 2 2 3 3 4 5 5\n",
      "Enter the key to search: 4\n"
     ]
    },
    {
     "name": "stdout",
     "output_type": "stream",
     "text": [
      "Element found at index: 6\n"
     ]
    }
   ],
   "source": [
    "arr=list(map(int,input(\"Enter the elements:\").split()))\n",
    "key=int(input(\"Enter the key to search:\"))\n",
    "result=binary_search(arr,key)\n",
    "print(\"Element found at index:\" if result != -1 else \"Element not found\" ,result)"
   ]
  },
  {
   "cell_type": "raw",
   "id": "25f96659-9e4d-4c61-a125-3c42eccef29d",
   "metadata": {},
   "source": [
    "Time Complexity"
   ]
  },
  {
   "cell_type": "raw",
   "id": "a8c27c4a-7a9d-4b34-b367-304ba1b8e081",
   "metadata": {},
   "source": [
    "Time Complexity: O(log N)\n",
    "Space Complexity: O(1) (for iterative), O(log N) (for recursive)"
   ]
  },
  {
   "cell_type": "code",
   "execution_count": null,
   "id": "ac478af7-187f-4291-8d87-bedadde0269e",
   "metadata": {},
   "outputs": [],
   "source": []
  }
 ],
 "metadata": {
  "kernelspec": {
   "display_name": "Python 3 (ipykernel)",
   "language": "python",
   "name": "python3"
  },
  "language_info": {
   "codemirror_mode": {
    "name": "ipython",
    "version": 3
   },
   "file_extension": ".py",
   "mimetype": "text/x-python",
   "name": "python",
   "nbconvert_exporter": "python",
   "pygments_lexer": "ipython3",
   "version": "3.12.4"
  }
 },
 "nbformat": 4,
 "nbformat_minor": 5
}
