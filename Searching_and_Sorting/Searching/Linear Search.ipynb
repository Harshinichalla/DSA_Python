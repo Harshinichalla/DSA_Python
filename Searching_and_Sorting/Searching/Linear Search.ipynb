{
 "cells": [
  {
   "cell_type": "markdown",
   "id": "00e39e59-f836-4322-aec4-809e14f0a2b6",
   "metadata": {},
   "source": [
    "## LINEAR SEARCH"
   ]
  },
  {
   "cell_type": "markdown",
   "id": "467fd025-ef15-48f0-9871-a6aec856ca19",
   "metadata": {},
   "source": [
    "## QUESTION"
   ]
  },
  {
   "cell_type": "raw",
   "id": "ff8beca4-e401-4c49-901b-baf3282c882d",
   "metadata": {},
   "source": [
    "You are given a sorted array of integers where every element appears exactly twice, except for one element which appears only once. \n",
    "Write a Python program to find that unique element using Linear Search \n",
    "Input: arr = [1, 1, 2, 2, 3, 3, 4, 5, 5] \n",
    "Linear Search: Implement the standard linear search to find the unique element. "
   ]
  },
  {
   "cell_type": "markdown",
   "id": "e4ae80a0-853a-46ae-86d9-83032c4f6c59",
   "metadata": {},
   "source": [
    "## Key Idea"
   ]
  },
  {
   "cell_type": "code",
   "execution_count": 14,
   "id": "b9d7b306-b75b-42de-98fb-e80f3a1e1bdd",
   "metadata": {},
   "outputs": [],
   "source": [
    "# 1) intialize the size of an array to 'n'\n",
    "# 2)scan the array of 'n' integers\n",
    "# 3)traverse linearly ,index 0-->n\n",
    "# 4)compare the search element with all the element in an array\n",
    "# 5)if search element ==array[i]\n",
    "# 6)location is i+1"
   ]
  },
  {
   "cell_type": "markdown",
   "id": "e1892337-a2a5-45b4-b96f-e2ff71f4db6f",
   "metadata": {},
   "source": [
    "## CODE"
   ]
  },
  {
   "cell_type": "code",
   "execution_count": 11,
   "id": "757bfd4a-93e5-445c-8600-769d8747cc5f",
   "metadata": {},
   "outputs": [
    {
     "name": "stdin",
     "output_type": "stream",
     "text": [
      "Enter number of elements: 9\n",
      "Enter elements: 1\n",
      "Enter elements: 1\n",
      "Enter elements: 2\n",
      "Enter elements: 2\n",
      "Enter elements: 3\n",
      "Enter elements: 3\n",
      "Enter elements: 4\n",
      "Enter elements: 5\n",
      "Enter elements: 5\n",
      "Enter the searching elements: 4\n"
     ]
    },
    {
     "name": "stdout",
     "output_type": "stream",
     "text": [
      "4 Element found at position 6\n"
     ]
    }
   ],
   "source": [
    "def linear_search(list,key):\n",
    "    size=len(list)\n",
    "    index=0\n",
    "    while index<size:\n",
    "        if list[index]==key:\n",
    "            return index\n",
    "        index=index+1\n",
    "    return -1\n",
    "n=int(input('Enter number of elements:'))\n",
    "lst=[]\n",
    "for i in range(n):\n",
    "    num=int(input(\"Enter elements:\"))\n",
    "    lst.append(num)\n",
    "key=int(input(\"Enter the searching elements:\"))\n",
    "position=linear_search(lst,key)\n",
    "if position==-1:\n",
    "    print(\"Element not found\")\n",
    "else:\n",
    "    print('{} Element found at position {}'.format(key,position))"
   ]
  },
  {
   "cell_type": "raw",
   "id": "a7acfb4b-50bf-4a93-b0e3-d4a842eb3b29",
   "metadata": {},
   "source": [
    "Time Complexity and Space Complexity"
   ]
  },
  {
   "cell_type": "raw",
   "id": "0d5367a0-0fad-4014-86b4-0cc0054b61ac",
   "metadata": {},
   "source": [
    "Time Complexity: O(N)\n",
    "Space Complexity: O(1)"
   ]
  },
  {
   "cell_type": "code",
   "execution_count": null,
   "id": "0c6b0290-c78d-4768-bdc7-fb1a39b3b8d6",
   "metadata": {},
   "outputs": [],
   "source": [
    "#bubble sort,insertion sort,selection sort-----case study and key idea application"
   ]
  },
  {
   "cell_type": "code",
   "execution_count": null,
   "id": "254409b5-b573-4b70-beca-f54334403133",
   "metadata": {},
   "outputs": [],
   "source": []
  }
 ],
 "metadata": {
  "kernelspec": {
   "display_name": "Python 3 (ipykernel)",
   "language": "python",
   "name": "python3"
  },
  "language_info": {
   "codemirror_mode": {
    "name": "ipython",
    "version": 3
   },
   "file_extension": ".py",
   "mimetype": "text/x-python",
   "name": "python",
   "nbconvert_exporter": "python",
   "pygments_lexer": "ipython3",
   "version": "3.12.4"
  }
 },
 "nbformat": 4,
 "nbformat_minor": 5
}
