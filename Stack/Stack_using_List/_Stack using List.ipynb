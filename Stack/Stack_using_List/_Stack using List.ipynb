{
 "cells": [
  {
   "cell_type": "markdown",
   "id": "0a4a54a7-8791-40f0-a1dc-54b99f4d2222",
   "metadata": {},
   "source": [
    "## STACK"
   ]
  },
  {
   "cell_type": "raw",
   "id": "6ada5794-8ec9-4280-ac80-5d7c5f90bec5",
   "metadata": {},
   "source": [
    "1)Stacks are linear data structures that follow the Last In First Out(LIFO) primciple\n",
    "2)The last item to be intrested into a stack is the first one to be deleted from it.\n",
    "3)Both insertion and removal are allowed at only one end of stack called Top."
   ]
  },
  {
   "cell_type": "raw",
   "id": "965a7c20-407e-4ac6-bd67-ade9c0d731ec",
   "metadata": {},
   "source": [
    "APPLICATIONS:\n",
    "1)parsing well formed parenthesis\n",
    "2)Expression conversion(infix to postfix,postfix to prefix)\n",
    "3)Expression evaluation\n",
    "4)Reversing a string\n",
    "5)Decimal to binary conversion\n",
    "6)Storing function calls"
   ]
  },
  {
   "cell_type": "markdown",
   "id": "5eaeb327-b224-4c82-976c-833c5a12e899",
   "metadata": {},
   "source": [
    "## CODE"
   ]
  },
  {
   "cell_type": "code",
   "execution_count": null,
   "id": "9ef8b85b-707e-4ea3-bcc9-d643714b7eb4",
   "metadata": {},
   "outputs": [
    {
     "name": "stdout",
     "output_type": "stream",
     "text": [
      "program to implement stack using list\n",
      "1.push\n",
      "2.pop\n",
      "3.peek\n",
      "4.Display\n",
      "5.Exit\n"
     ]
    },
    {
     "name": "stdin",
     "output_type": "stream",
     "text": [
      "Enter the choice 1\n",
      "Enter the data: 20\n"
     ]
    },
    {
     "name": "stdout",
     "output_type": "stream",
     "text": [
      "program to implement stack using list\n",
      "1.push\n",
      "2.pop\n",
      "3.peek\n",
      "4.Display\n",
      "5.Exit\n"
     ]
    },
    {
     "name": "stdin",
     "output_type": "stream",
     "text": [
      "Enter the choice 1\n",
      "Enter the data: 30\n"
     ]
    },
    {
     "name": "stdout",
     "output_type": "stream",
     "text": [
      "program to implement stack using list\n",
      "1.push\n",
      "2.pop\n",
      "3.peek\n",
      "4.Display\n",
      "5.Exit\n"
     ]
    },
    {
     "name": "stdin",
     "output_type": "stream",
     "text": [
      "Enter the choice 3\n"
     ]
    },
    {
     "name": "stdout",
     "output_type": "stream",
     "text": [
      "Item at the top: 30\n",
      "program to implement stack using list\n",
      "1.push\n",
      "2.pop\n",
      "3.peek\n",
      "4.Display\n",
      "5.Exit\n"
     ]
    },
    {
     "name": "stdin",
     "output_type": "stream",
     "text": [
      "Enter the choice 40\n"
     ]
    },
    {
     "name": "stdout",
     "output_type": "stream",
     "text": [
      "Invalid choice,enter the correct choiuce(1-5)\n",
      "program to implement stack using list\n",
      "1.push\n",
      "2.pop\n",
      "3.peek\n",
      "4.Display\n",
      "5.Exit\n"
     ]
    },
    {
     "name": "stdin",
     "output_type": "stream",
     "text": [
      "Enter the choice 1\n",
      "Enter the data: 50\n"
     ]
    },
    {
     "name": "stdout",
     "output_type": "stream",
     "text": [
      "program to implement stack using list\n",
      "1.push\n",
      "2.pop\n",
      "3.peek\n",
      "4.Display\n",
      "5.Exit\n"
     ]
    },
    {
     "name": "stdin",
     "output_type": "stream",
     "text": [
      "Enter the choice 4\n"
     ]
    },
    {
     "name": "stdout",
     "output_type": "stream",
     "text": [
      "stack elements (from top to bottom)\n",
      "30\n",
      "20\n",
      "program to implement stack using list\n",
      "1.push\n",
      "2.pop\n",
      "3.peek\n",
      "4.Display\n",
      "5.Exit\n"
     ]
    }
   ],
   "source": [
    "class Stack:\n",
    "    def __init__(self):\n",
    "        self.items=[]\n",
    "    def isempty(self):\n",
    "        return self.items==[]\n",
    "    def push(self,item):\n",
    "        return self.items.append(item)\n",
    "    def pop(self):\n",
    "        if self.isempty():\n",
    "            print(\"Stack Underflow\")\n",
    "            return None\n",
    "        return self.items.pop()\n",
    "    def peek(self):\n",
    "        if self.isempty():\n",
    "            print(\"stack is empty\")\n",
    "            return None\n",
    "        return self.items[len(self.items)-1]\n",
    "    def size(self):\n",
    "        return len(self.items)\n",
    "    def display(self):\n",
    "        if self.isempty():\n",
    "            print(\"stack is empty\")\n",
    "            return None\n",
    "        print(\"stack elements (from top to bottom)\")\n",
    "        top=len(self.items)-1\n",
    "        for i in range (top-1,-1,-1):\n",
    "            print(self.items[i])\n",
    "\n",
    "s=Stack()\n",
    "while (True):\n",
    "    print(\"program to implement stack using list\")\n",
    "    print(\"1.push\")\n",
    "    print(\"2.pop\")\n",
    "    print(\"3.peek\")\n",
    "    print(\"4.Display\")\n",
    "    print(\"5.Exit\")\n",
    "    choice=int(input(\"Enter the choice\"))\n",
    "    if choice==1:\n",
    "        num=int(input(\"Enter the data:\"))\n",
    "        s.push(num)\n",
    "    elif choice==2:\n",
    "        num=s.pop()\n",
    "        print(\"popped element is:\",num)\n",
    "    elif choice==3:\n",
    "        num=s.peek()\n",
    "        print(\"Item at the top:\",num)\n",
    "    elif choice==4:\n",
    "        s.display()\n",
    "    elif choice==5:\n",
    "        print(\"Quitting.......\")\n",
    "        break;\n",
    "    else:\n",
    "        print(\"Invalid choice,enter the correct choice(1-5)\")\n",
    "        continue\n",
    "        "
   ]
  },
  {
   "cell_type": "code",
   "execution_count": null,
   "id": "259681be-d105-4954-9dc3-b55578a3fca2",
   "metadata": {},
   "outputs": [],
   "source": [
    "#1)reverse an element in stack -----0 to n"
   ]
  },
  {
   "cell_type": "code",
   "execution_count": 1,
   "id": "d384b995-efdb-40c0-933d-eb05cca005da",
   "metadata": {},
   "outputs": [
    {
     "name": "stdout",
     "output_type": "stream",
     "text": [
      "Original Stack:\n",
      "Stack elements (from top to bottom):\n",
      "5\n",
      "4\n",
      "3\n",
      "2\n",
      "1\n",
      "Reversed Stack:\n",
      "Stack elements (from top to bottom):\n",
      "1\n",
      "2\n",
      "3\n",
      "4\n",
      "5\n"
     ]
    }
   ],
   "source": [
    "class Stack:\n",
    "    def __init__(self):\n",
    "        self.items = []\n",
    "    \n",
    "    def isempty(self):\n",
    "        return self.items == []\n",
    "    \n",
    "    def push(self, item):\n",
    "        self.items.append(item)\n",
    "    \n",
    "    def pop(self):\n",
    "        if self.isempty():\n",
    "            print(\"Stack Underflow\")\n",
    "            return None\n",
    "        return self.items.pop()\n",
    "    \n",
    "    def peek(self):\n",
    "        if self.isempty():\n",
    "            print(\"Stack is empty\")\n",
    "            return None\n",
    "        return self.items[-1]\n",
    "    \n",
    "    def size(self):\n",
    "        return len(self.items)\n",
    "    \n",
    "    def display(self):\n",
    "        if self.isempty():\n",
    "            print(\"Stack is empty\")\n",
    "            return None\n",
    "        print(\"Stack elements (from top to bottom):\")\n",
    "        for i in reversed(self.items):\n",
    "            print(i)\n",
    "    \n",
    "    def reverse(self):\n",
    "        if self.isempty():\n",
    "            print(\"Stack is empty, cannot reverse\")\n",
    "            return\n",
    "        temp_stack = Stack()\n",
    "        while not self.isempty():\n",
    "            temp_stack.push(self.pop())\n",
    "        self.items = temp_stack.items\n",
    "\n",
    "# Testing the reverse function\n",
    "s = Stack()\n",
    "s.push(1)\n",
    "s.push(2)\n",
    "s.push(3)\n",
    "s.push(4)\n",
    "s.push(5)\n",
    "\n",
    "print(\"Original Stack:\")\n",
    "s.display()\n",
    "\n",
    "s.reverse()\n",
    "\n",
    "print(\"Reversed Stack:\")\n",
    "s.display()\n"
   ]
  },
  {
   "cell_type": "code",
   "execution_count": null,
   "id": "d91e45f2-ecc7-4326-8842-36ae2048ef0c",
   "metadata": {},
   "outputs": [],
   "source": [
    "#2)sort the elements in descending order without using built-in function of sort"
   ]
  },
  {
   "cell_type": "code",
   "execution_count": 3,
   "id": "484dcab1-0ef2-4a47-9acb-a36b2d56962e",
   "metadata": {},
   "outputs": [
    {
     "name": "stdout",
     "output_type": "stream",
     "text": [
      "Original Stack:\n",
      "Stack elements (from top to bottom):\n",
      "5\n",
      "2\n",
      "4\n",
      "1\n",
      "3\n",
      "Sorted Stack (Descending Order):\n",
      "Stack elements (from top to bottom):\n",
      "5\n",
      "4\n",
      "3\n",
      "2\n",
      "1\n"
     ]
    }
   ],
   "source": [
    "class Stack:\n",
    "    def __init__(self):\n",
    "        self.items = []\n",
    "    \n",
    "    def isempty(self):\n",
    "        return self.items == []\n",
    "    \n",
    "    def push(self, item):\n",
    "        self.items.append(item)\n",
    "    \n",
    "    def pop(self):\n",
    "        if self.isempty():\n",
    "            print(\"Stack Underflow\")\n",
    "            return None\n",
    "        return self.items.pop()\n",
    "    \n",
    "    def peek(self):\n",
    "        if self.isempty():\n",
    "            print(\"Stack is empty\")\n",
    "            return None\n",
    "        return self.items[-1]\n",
    "    \n",
    "    def size(self):\n",
    "        return len(self.items)\n",
    "    \n",
    "    def display(self):\n",
    "        if self.isempty():\n",
    "            print(\"Stack is empty\")\n",
    "            return None\n",
    "        print(\"Stack elements (from top to bottom):\")\n",
    "        for i in reversed(self.items):\n",
    "            print(i)\n",
    "    \n",
    "    def reverse(self):\n",
    "        if self.isempty():\n",
    "            print(\"Stack is empty, cannot reverse\")\n",
    "            return\n",
    "        temp_stack = Stack()\n",
    "        while not self.isempty():\n",
    "            temp_stack.push(self.pop())\n",
    "        self.items = temp_stack.items\n",
    "    \n",
    "    def sorted_insert(self, item):\n",
    "        if self.isempty() or item > self.peek():\n",
    "            self.push(item)\n",
    "        else:\n",
    "            temp = self.pop()\n",
    "            self.sorted_insert(item)\n",
    "            self.push(temp)\n",
    "    \n",
    "    def sort_descending(self):\n",
    "        if not self.isempty():\n",
    "            temp = self.pop()\n",
    "            self.sort_descending()\n",
    "            self.sorted_insert(temp)\n",
    "\n",
    "# Testing the sort function\n",
    "s = Stack()\n",
    "s.push(3)\n",
    "s.push(1)\n",
    "s.push(4)\n",
    "s.push(2)\n",
    "s.push(5)\n",
    "\n",
    "print(\"Original Stack:\")\n",
    "s.display()\n",
    "\n",
    "s.sort_descending()\n",
    "\n",
    "print(\"Sorted Stack (Descending Order):\")\n",
    "s.display()"
   ]
  },
  {
   "cell_type": "code",
   "execution_count": null,
   "id": "7f312d2b-2790-4c21-a471-4b6951709d89",
   "metadata": {},
   "outputs": [],
   "source": [
    "#3)find the minimum element in the stack we can use built in function also"
   ]
  },
  {
   "cell_type": "code",
   "execution_count": 7,
   "id": "17e361c2-ebf8-4688-bc6b-2a099ba0a4c0",
   "metadata": {},
   "outputs": [
    {
     "name": "stdout",
     "output_type": "stream",
     "text": [
      "Original Stack:\n",
      "Stack elements (from top to bottom):\n",
      "5\n",
      "2\n",
      "4\n",
      "1\n",
      "3\n",
      "Minimum Element in Stack: 1\n"
     ]
    }
   ],
   "source": [
    "class Stack:\n",
    "    def __init__(self):\n",
    "        self.items = []\n",
    "    \n",
    "    def isempty(self):\n",
    "        return self.items == []\n",
    "    \n",
    "    def push(self, item):\n",
    "        self.items.append(item)\n",
    "    \n",
    "    def pop(self):\n",
    "        if self.isempty():\n",
    "            print(\"Stack Underflow\")\n",
    "            return None\n",
    "        return self.items.pop()\n",
    "    \n",
    "    def peek(self):\n",
    "        if self.isempty():\n",
    "            print(\"Stack is empty\")\n",
    "            return None\n",
    "        return self.items[-1]\n",
    "    \n",
    "    def size(self):\n",
    "        return len(self.items)\n",
    "    \n",
    "    def display(self):\n",
    "        if self.isempty():\n",
    "            print(\"Stack is empty\")\n",
    "            return None\n",
    "        print(\"Stack elements (from top to bottom):\")\n",
    "        for i in reversed(self.items):\n",
    "            print(i)\n",
    "    \n",
    "    def reverse(self):\n",
    "        if self.isempty():\n",
    "            print(\"Stack is empty, cannot reverse\")\n",
    "            return\n",
    "        temp_stack = Stack()\n",
    "        while not self.isempty():\n",
    "            temp_stack.push(self.pop())\n",
    "        self.items = temp_stack.items\n",
    "    \n",
    "    def sorted_insert(self, item):\n",
    "        if self.isempty() or item > self.peek():\n",
    "            self.push(item)\n",
    "        else:\n",
    "            temp = self.pop()\n",
    "            self.sorted_insert(item)\n",
    "            self.push(temp)\n",
    "    \n",
    "    def sort_descending(self):\n",
    "        if not self.isempty():\n",
    "            temp = self.pop()\n",
    "            self.sort_descending()\n",
    "            self.sorted_insert(temp)\n",
    "    \n",
    "    def find_min(self):\n",
    "        if self.isempty():\n",
    "            print(\"Stack is empty, no minimum element\")\n",
    "            return None\n",
    "        min_value = self.items[0]\n",
    "        for item in self.items:\n",
    "            if item < min_value:\n",
    "                min_value = item\n",
    "        return min_value\n",
    "\n",
    "# Testing the functions\n",
    "s = Stack()\n",
    "s.push(3)\n",
    "s.push(1)\n",
    "s.push(4)\n",
    "s.push(2)\n",
    "s.push(5)\n",
    "\n",
    "print(\"Original Stack:\")\n",
    "s.display()\n",
    "\n",
    "print(\"Minimum Element in Stack:\", s.find_min())\n",
    "\n",
    "s.sort_descending()\n",
    "\n",
    "#print(\"Sorted Stack (Descending Order):\")\n",
    "#s.display()\n"
   ]
  },
  {
   "cell_type": "code",
   "execution_count": null,
   "id": "e9d51952-6055-4c26-a6e2-168e8df62d2f",
   "metadata": {},
   "outputs": [],
   "source": []
  }
 ],
 "metadata": {
  "kernelspec": {
   "display_name": "Python 3 (ipykernel)",
   "language": "python",
   "name": "python3"
  },
  "language_info": {
   "codemirror_mode": {
    "name": "ipython",
    "version": 3
   },
   "file_extension": ".py",
   "mimetype": "text/x-python",
   "name": "python",
   "nbconvert_exporter": "python",
   "pygments_lexer": "ipython3",
   "version": "3.12.4"
  }
 },
 "nbformat": 4,
 "nbformat_minor": 5
}
