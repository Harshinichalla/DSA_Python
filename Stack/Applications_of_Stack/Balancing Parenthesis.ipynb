{
 "cells": [
  {
   "cell_type": "markdown",
   "id": "039e99f2-aaf4-4b5a-a430-1821eee7d4ce",
   "metadata": {},
   "source": [
    "## Key Idea"
   ]
  },
  {
   "cell_type": "raw",
   "id": "a178a9be-0706-4e26-a96a-161e6406c871",
   "metadata": {},
   "source": [
    "1)initialize the input as string\n",
    "2)push\n",
    "--->push open parenthesis into the stack\n",
    "3)pop\n",
    "--->when input is closed parenthesis\n",
    "--->pop and compare\n",
    "--->if same continue\n",
    "--->else return 0\n",
    "4)at the end,if all okay->Balanced else Not Balanced"
   ]
  },
  {
   "cell_type": "markdown",
   "id": "65f83003-4b32-4bb0-9c05-fde811148664",
   "metadata": {},
   "source": [
    "## CODE"
   ]
  },
  {
   "cell_type": "code",
   "execution_count": 11,
   "id": "5eda33aa-0352-46b0-bd5c-d097b5ff298f",
   "metadata": {},
   "outputs": [
    {
     "name": "stdin",
     "output_type": "stream",
     "text": [
      "Enter any expression: (123{456[789]123}4567)\n"
     ]
    },
    {
     "name": "stdout",
     "output_type": "stream",
     "text": [
      "Expression is well parenthesized\n"
     ]
    }
   ],
   "source": [
    "class StackNode:\n",
    "    def __init__(self,NewData,link=None):\n",
    "        self.data=NewData\n",
    "        self.next=link\n",
    "        \n",
    "class Stack:\n",
    "    def __init__(self):\n",
    "        self.top=None\n",
    "        \n",
    "    def isempty(self):\n",
    "        return self.top is None\n",
    "        \n",
    "    def peek(self):\n",
    "        if self.isempty():\n",
    "            print(\"stack is empty\")\n",
    "            return None\n",
    "        return self.top.data\n",
    "        \n",
    "    def pop(self):\n",
    "        if self.isempty():\n",
    "            return \"stack Underflow\"\n",
    "        node=self.top\n",
    "        self.top=self.top.next\n",
    "        return node.data\n",
    "        \n",
    "    def push(self,NewData):\n",
    "        self.top=StackNode(NewData,self.top)\n",
    "        \n",
    "    def display(self):\n",
    "        if self.isempty():\n",
    "            print(\"stack is empty\")\n",
    "            return\n",
    "        curNode=self.top\n",
    "        print(\"stack elements from top to bottom:\")\n",
    "        while curNode is not None:\n",
    "            print(curNode.data)\n",
    "            curNode=curNode.next\n",
    "def chk_parenthesis(expr):\n",
    "    st=Stack()\n",
    "    for ch in expr:\n",
    "\n",
    "        if ch=='(' or ch=='{' or ch=='[':\n",
    "            st.push(ch)\n",
    "        elif ch==\")\" or ch==\"}\" or ch==']' :\n",
    "            if st.isempty():\n",
    "                print(\"No matching opening parenthesis\")\n",
    "                return\n",
    "            else:\n",
    "                if getmatch(ch) != st.pop():\n",
    "                    print(\"Improper nesting of parenthesis\")\n",
    "                    return\n",
    "    if not st.isempty():\n",
    "        print(\"No matching closing parenthesis\")\n",
    "    else:\n",
    "        print(\"Expression is well parenthesized\")\n",
    "def getmatch(ch):\n",
    "    if ch==')':\n",
    "        return '('\n",
    "    elif ch=='}':\n",
    "        return '{'\n",
    "    elif ch==']':\n",
    "        return '['\n",
    "exp=input(\"Enter any expression:\")\n",
    "chk_parenthesis(exp)"
   ]
  },
  {
   "cell_type": "code",
   "execution_count": null,
   "id": "db9de149-5167-4cbb-80a6-5dd45a605b45",
   "metadata": {},
   "outputs": [],
   "source": []
  }
 ],
 "metadata": {
  "kernelspec": {
   "display_name": "Python 3 (ipykernel)",
   "language": "python",
   "name": "python3"
  },
  "language_info": {
   "codemirror_mode": {
    "name": "ipython",
    "version": 3
   },
   "file_extension": ".py",
   "mimetype": "text/x-python",
   "name": "python",
   "nbconvert_exporter": "python",
   "pygments_lexer": "ipython3",
   "version": "3.12.4"
  }
 },
 "nbformat": 4,
 "nbformat_minor": 5
}
