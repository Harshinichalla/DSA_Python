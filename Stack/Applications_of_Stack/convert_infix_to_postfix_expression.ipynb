{
 "cells": [
  {
   "cell_type": "markdown",
   "id": "7928b73b-7791-452b-9f37-ed15590f5a70",
   "metadata": {},
   "source": [
    "## INFIX TO POSTFIX"
   ]
  },
  {
   "cell_type": "raw",
   "id": "ffd9e0b2-60ce-4331-bbe0-d10b126b9c33",
   "metadata": {},
   "source": [
    "scan_character      stack          Target_string\n",
    "-------------       ------        --------------- \n",
    "A                     +                A\n",
    "+                     +(               A\n",
    "(                     +(               A\n",
    "B                     +(               AB\n",
    "-                     +(-              AB\n",
    "C                     +(-              ABC\n",
    "*                     +(-*             ABC\n",
    "D                     +(-*             ABCD\n",
    ")                     +                ABCD*-\n",
    "/                     +/               ABCD*-\n",
    "E                     +/               ABCDE*-E\n",
    "End of String ----------------------> ABCD*-E/+\n",
    "result postfix---------->ABCD*-E/+                        "
   ]
  },
  {
   "cell_type": "markdown",
   "id": "c4b69896-1659-4191-be92-a44cb8285349",
   "metadata": {},
   "source": [
    "## CODE"
   ]
  },
  {
   "cell_type": "code",
   "execution_count": 37,
   "id": "8370d9a8-72aa-4fff-a8d8-3446ba0ddb1c",
   "metadata": {},
   "outputs": [
    {
     "name": "stdin",
     "output_type": "stream",
     "text": [
      "Enter an infix expression:  a+(b-c*d)/e\n"
     ]
    },
    {
     "name": "stdout",
     "output_type": "stream",
     "text": [
      "The equivalent postfix expression is:\n",
      "abcd*-e/+\n"
     ]
    }
   ],
   "source": [
    "class Node:\n",
    "    def __init__(self, NewData, link=None):\n",
    "        self.data = NewData\n",
    "        self.next = link\n",
    "\n",
    "class StackNode:\n",
    "    def __init__(self):\n",
    "        self.top = None\n",
    "\n",
    "    def isempty(self):\n",
    "        return self.top is None\n",
    "\n",
    "    def peek(self):\n",
    "        if self.isempty():\n",
    "            return \"Stack is empty\"\n",
    "        return self.top.data\n",
    "\n",
    "    def pop(self):\n",
    "        if self.isempty():\n",
    "            return \"Stack Underflow\"\n",
    "        node = self.top\n",
    "        self.top = self.top.next\n",
    "        return node.data \n",
    "\n",
    "    def push(self, NewData): \n",
    "        self.top = Node(NewData, self.top) #====Wrong Syntaxs\n",
    "\n",
    "def getPriority(opr):\n",
    "    if opr in ('*', '/', '%'):\n",
    "        return 1\n",
    "    elif opr in ('+', '-'):\n",
    "        return 0\n",
    "    return -1\n",
    "\n",
    "def infix_to_postfix(source):\n",
    "    target = \"\"\n",
    "    st = StackNode()  \n",
    "    \n",
    "    for ch in source:\n",
    "        if ch == '(':\n",
    "            st.push(ch)\n",
    "        elif ch == ')':\n",
    "            while not st.isempty() and st.peek() != '(':\n",
    "                target += st.pop()\n",
    "            st.pop()  \n",
    "        elif ch.isdigit() or ch.isalpha():\n",
    "            target += ch\n",
    "        elif ch in ('+', '-', '*', '/', '%'):\n",
    "            while not st.isempty() and st.peek() != '(' and getPriority(st.peek()) >= getPriority(ch):\n",
    "                target += st.pop()\n",
    "            st.push(ch)\n",
    "\n",
    "    while not st.isempty():\n",
    "        target += st.pop()\n",
    "    \n",
    "    return target\n",
    "\n",
    "infix_exp = input(\"Enter an infix expression: \")\n",
    "postfix = infix_to_postfix(infix_exp)\n",
    "print(\"The equivalent postfix expression is:\")\n",
    "print(postfix)\n"
   ]
  },
  {
   "cell_type": "code",
   "execution_count": null,
   "id": "cfe7f943-ec50-4635-abd6-3f692d8c8c07",
   "metadata": {},
   "outputs": [],
   "source": []
  }
 ],
 "metadata": {
  "kernelspec": {
   "display_name": "Python 3 (ipykernel)",
   "language": "python",
   "name": "python3"
  },
  "language_info": {
   "codemirror_mode": {
    "name": "ipython",
    "version": 3
   },
   "file_extension": ".py",
   "mimetype": "text/x-python",
   "name": "python",
   "nbconvert_exporter": "python",
   "pygments_lexer": "ipython3",
   "version": "3.12.4"
  }
 },
 "nbformat": 4,
 "nbformat_minor": 5
}
