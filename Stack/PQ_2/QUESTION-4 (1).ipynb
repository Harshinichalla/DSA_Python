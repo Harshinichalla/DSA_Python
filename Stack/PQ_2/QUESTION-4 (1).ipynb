{
 "cells": [
  {
   "cell_type": "markdown",
   "id": "5ce7a05b-724f-4d89-987a-7a9232ee511b",
   "metadata": {},
   "source": [
    "## QUESTION"
   ]
  },
  {
   "cell_type": "raw",
   "id": "6639d094-5ebf-4853-a096-897cf956d487",
   "metadata": {},
   "source": [
    "Longest Valid Parentheses Substring:\n",
    "• Given a string containing just the characters ( and ), find the length of the longest\n",
    "valid (well-formed) parentheses substring."
   ]
  },
  {
   "cell_type": "markdown",
   "id": "0530c9d5-149f-40a9-b7f9-2b61e000bdd4",
   "metadata": {},
   "source": [
    "## CODE"
   ]
  },
  {
   "cell_type": "code",
   "execution_count": 1,
   "id": "c50fe48f-9f92-422c-879d-c255ec140fb7",
   "metadata": {},
   "outputs": [
    {
     "name": "stdout",
     "output_type": "stream",
     "text": [
      "Longest valid parentheses substring length: 6\n",
      "Longest valid parentheses substring length: 4\n",
      "Longest valid parentheses substring length: 6\n",
      "Longest valid parentheses substring length: 2\n"
     ]
    }
   ],
   "source": [
    "def longest_valid_parentheses(s):\n",
    "    stack = [-1]\n",
    "    max_length = 0\n",
    "    \n",
    "    for i, char in enumerate(s):\n",
    "        if char == '(':\n",
    "            stack.append(i)\n",
    "        else:\n",
    "            stack.pop()\n",
    "            if stack:\n",
    "                max_length = max(max_length, i - stack[-1])\n",
    "            else:\n",
    "                stack.append(i)\n",
    "    \n",
    "    return max_length\n",
    "\n",
    "# Example usage\n",
    "expression1 = \"(()())\"\n",
    "expression2 = \")()())\"\n",
    "expression3 = \"((()))\"\n",
    "expression4 = \"()(()\"\n",
    "\n",
    "print(\"Longest valid parentheses substring length:\", longest_valid_parentheses(expression1))  # Should return 6\n",
    "print(\"Longest valid parentheses substring length:\", longest_valid_parentheses(expression2))  # Should return 4\n",
    "print(\"Longest valid parentheses substring length:\", longest_valid_parentheses(expression3))  # Should return 6\n",
    "print(\"Longest valid parentheses substring length:\", longest_valid_parentheses(expression4))  # Should return 2\n"
   ]
  }
 ],
 "metadata": {
  "kernelspec": {
   "display_name": "Python 3 (ipykernel)",
   "language": "python",
   "name": "python3"
  },
  "language_info": {
   "codemirror_mode": {
    "name": "ipython",
    "version": 3
   },
   "file_extension": ".py",
   "mimetype": "text/x-python",
   "name": "python",
   "nbconvert_exporter": "python",
   "pygments_lexer": "ipython3",
   "version": "3.12.4"
  }
 },
 "nbformat": 4,
 "nbformat_minor": 5
}
