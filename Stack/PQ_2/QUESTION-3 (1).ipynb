{
 "cells": [
  {
   "cell_type": "markdown",
   "id": "0adbc26f-f375-4f89-9054-c68ac5f76316",
   "metadata": {},
   "source": [
    "## QUESTION"
   ]
  },
  {
   "cell_type": "raw",
   "id": "234ff37e-bd70-4c4a-ac10-d2dd295630d4",
   "metadata": {},
   "source": [
    "Minimum Number of Parentheses to Add:\n",
    "• Given a string with parentheses, find the minimum number of parentheses needed to\n",
    "be added to make the string valid."
   ]
  },
  {
   "cell_type": "markdown",
   "id": "4ea7aa83-127b-4c51-9692-64b899ccafbd",
   "metadata": {},
   "source": [
    "## CODE"
   ]
  },
  {
   "cell_type": "code",
   "execution_count": 1,
   "id": "d993ce21-efb5-4277-b275-99930b805e16",
   "metadata": {},
   "outputs": [
    {
     "name": "stdout",
     "output_type": "stream",
     "text": [
      "Minimum parentheses to add: 0\n",
      "Minimum parentheses to add: 2\n",
      "Minimum parentheses to add: 1\n"
     ]
    }
   ],
   "source": [
    "def min_parentheses_to_add(s):\n",
    "    stack = []\n",
    "    unbalanced = 0\n",
    "    \n",
    "    for char in s:\n",
    "        if char == '(':\n",
    "            stack.append(char)\n",
    "        elif char == ')':\n",
    "            if stack:\n",
    "                stack.pop()\n",
    "            else:\n",
    "                unbalanced += 1  # Extra closing parenthesis\n",
    "    \n",
    "    return unbalanced + len(stack)  # Remaining unbalanced opening parentheses\n",
    "\n",
    "# Example usage\n",
    "expression1 = \"((a + b) * (c + d))\"\n",
    "expression2 = \"(a + b)) + ((c + d)\"\n",
    "expression3 = \"(()\"\n",
    "\n",
    "print(\"Minimum parentheses to add:\", min_parentheses_to_add(expression1))  # Should return 0 (already balanced)\n",
    "print(\"Minimum parentheses to add:\", min_parentheses_to_add(expression2))  # Should return 2 (one extra closing and one missing opening)\n",
    "print(\"Minimum parentheses to add:\", min_parentheses_to_add(expression3))  # Should return 1 (missing closing parenthesis)\n"
   ]
  }
 ],
 "metadata": {
  "kernelspec": {
   "display_name": "Python 3 (ipykernel)",
   "language": "python",
   "name": "python3"
  },
  "language_info": {
   "codemirror_mode": {
    "name": "ipython",
    "version": 3
   },
   "file_extension": ".py",
   "mimetype": "text/x-python",
   "name": "python",
   "nbconvert_exporter": "python",
   "pygments_lexer": "ipython3",
   "version": "3.12.4"
  }
 },
 "nbformat": 4,
 "nbformat_minor": 5
}
