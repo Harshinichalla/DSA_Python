{
 "cells": [
  {
   "cell_type": "markdown",
   "id": "2e486395-e403-43ce-9cf3-320de7328f46",
   "metadata": {},
   "source": [
    "## QUESTION"
   ]
  },
  {
   "cell_type": "raw",
   "id": "f5783fc5-51b4-47f3-92cf-804ec1911c54",
   "metadata": {},
   "source": [
    "Parentheses in a Long String:\n",
    "• Given a long string with multiple characters, find all the positions where parentheses\n",
    "are balanced and return them."
   ]
  },
  {
   "cell_type": "markdown",
   "id": "08e8e921-1456-423c-a628-ba8dc7ca332a",
   "metadata": {},
   "source": [
    "## CODE"
   ]
  },
  {
   "cell_type": "raw",
   "id": "0d249e67-79d4-47a0-a30c-99c44fb1e6cd",
   "metadata": {},
   "source": [
    "def find_balanced_parentheses(s):\n",
    "    stack = []\n",
    "    balanced_positions = []\n",
    "    \n",
    "    for i, char in enumerate(s):\n",
    "        if char == '(':\n",
    "            stack.append(i)\n",
    "        elif char == ')':\n",
    "            if stack:\n",
    "                start = stack.pop()\n",
    "                balanced_positions.append((start, i))\n",
    "    \n",
    "    return balanced_positions\n",
    "\n",
    "# Example usage\n",
    "expression1 = \"(a + b) * (c + d)\"\n",
    "expression2 = \"((x + y) * (z + w))\"\n",
    "expression3 = \"(p + q) * r) + (s + t\"\n",
    "\n",
    "print(\"Balanced positions:\", find_balanced_parentheses(expression1))  # Should return positions of balanced parentheses\n",
    "print(\"Balanced positions:\", find_balanced_parentheses(expression2))  # Should return positions of balanced parentheses\n",
    "print(\"Balanced positions:\", find_balanced_parentheses(expression3))  # Should return positions of only balanced pairs\n"
   ]
  }
 ],
 "metadata": {
  "kernelspec": {
   "display_name": "Python 3 (ipykernel)",
   "language": "python",
   "name": "python3"
  },
  "language_info": {
   "codemirror_mode": {
    "name": "ipython",
    "version": 3
   },
   "file_extension": ".py",
   "mimetype": "text/x-python",
   "name": "python",
   "nbconvert_exporter": "python",
   "pygments_lexer": "ipython3",
   "version": "3.12.4"
  }
 },
 "nbformat": 4,
 "nbformat_minor": 5
}
