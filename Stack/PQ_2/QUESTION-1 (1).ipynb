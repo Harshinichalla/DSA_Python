{
 "cells": [
  {
   "cell_type": "markdown",
   "id": "7aeef661-6387-4b5a-b869-7056711ff942",
   "metadata": {},
   "source": [
    "## QUESTION"
   ]
  },
  {
   "cell_type": "raw",
   "id": "9752b1dc-7dc9-4cf5-b31c-915f69a58a22",
   "metadata": {},
   "source": [
    "Parentheses Positioning Error:\n",
    "• Write a function to find the position of the first mismatched parenthesis in a given\n",
    "string. Return -1 if all parentheses are balanced"
   ]
  },
  {
   "cell_type": "markdown",
   "id": "60e4c1c2-7858-4e8a-ad44-93357840356c",
   "metadata": {},
   "source": [
    "## CODE"
   ]
  },
  {
   "cell_type": "code",
   "execution_count": 1,
   "id": "f519665e-b1c4-46e4-84ba-06b0ccf5c5ca",
   "metadata": {},
   "outputs": [
    {
     "name": "stdout",
     "output_type": "stream",
     "text": [
      "Mismatched position: 17\n",
      "Mismatched position: 0\n",
      "Mismatched position: -1\n"
     ]
    }
   ],
   "source": [
    "def find_mismatched_parenthesis(s):\n",
    "    stack = []\n",
    "    for i, char in enumerate(s):\n",
    "        if char == '(':\n",
    "            stack.append(i)\n",
    "        elif char == ')':\n",
    "            if stack:\n",
    "                stack.pop()\n",
    "            else:\n",
    "                return i \n",
    "    \n",
    "    return stack[0] if stack else -1  \n",
    "# Example usage\n",
    "expression1 = \"(a + b) * (c + d))\"\n",
    "expression2 = \"((a + b) * (c + d)\"\n",
    "expression3 = \"(a + b) * (c + d)\"\n",
    "\n",
    "print(\"Mismatched position:\", find_mismatched_parenthesis(expression1))  \n",
    "print(\"Mismatched position:\", find_mismatched_parenthesis(expression2))  \n",
    "print(\"Mismatched position:\", find_mismatched_parenthesis(expression3))  "
   ]
  }
 ],
 "metadata": {
  "kernelspec": {
   "display_name": "Python 3 (ipykernel)",
   "language": "python",
   "name": "python3"
  },
  "language_info": {
   "codemirror_mode": {
    "name": "ipython",
    "version": 3
   },
   "file_extension": ".py",
   "mimetype": "text/x-python",
   "name": "python",
   "nbconvert_exporter": "python",
   "pygments_lexer": "ipython3",
   "version": "3.12.4"
  }
 },
 "nbformat": 4,
 "nbformat_minor": 5
}
