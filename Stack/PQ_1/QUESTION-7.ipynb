{
 "cells": [
  {
   "cell_type": "markdown",
   "id": "b6760881-e6e0-4ae3-a246-2c9362d50235",
   "metadata": {},
   "source": [
    "## QUESTION"
   ]
  },
  {
   "cell_type": "raw",
   "id": "11156a62-c662-4d7b-9bb2-87006b6ccfff",
   "metadata": {},
   "source": [
    "Implement Stack with Two Queues:\n",
    "• Using two queues (represented by lists), implement a stack. Implement the\n",
    "following stack operations:\n",
    "o push(x): Add element x to the stack.\n",
    "o pop(): Remove and return the top element from the stack.\n",
    "o peek(): Return the top element without removing it.\n",
    "o is_empty(): Return whether the stack is empty."
   ]
  },
  {
   "cell_type": "markdown",
   "id": "271f3a4e-4d4d-4e1b-89a1-0807048b918b",
   "metadata": {},
   "source": [
    "## CODE"
   ]
  },
  {
   "cell_type": "code",
   "execution_count": 1,
   "id": "7613e781-ebd7-4150-af7e-8e8eaa0b52ac",
   "metadata": {},
   "outputs": [
    {
     "name": "stdout",
     "output_type": "stream",
     "text": [
      "Top element: 30\n",
      "Popped element: 30\n",
      "Stack empty?: False\n",
      "Popped element: 20\n",
      "Popped element: 10\n",
      "Stack empty?: True\n"
     ]
    }
   ],
   "source": [
    "from collections import deque\n",
    "\n",
    "class StackUsingQueues:\n",
    "    def __init__(self):\n",
    "        self.queue1 = deque()\n",
    "        self.queue2 = deque()\n",
    "    \n",
    "    def push(self, x):\n",
    "        self.queue1.append(x)\n",
    "    \n",
    "    def pop(self):\n",
    "        if not self.queue1:\n",
    "            return \"Stack is empty\"\n",
    "        \n",
    "        while len(self.queue1) > 1:\n",
    "            self.queue2.append(self.queue1.popleft())\n",
    "        \n",
    "        popped_element = self.queue1.popleft()\n",
    "        \n",
    "        self.queue1, self.queue2 = self.queue2, self.queue1\n",
    "        return popped_element\n",
    "    \n",
    "    def peek(self):\n",
    "        if not self.queue1:\n",
    "            return \"Stack is empty\"\n",
    "        \n",
    "        while len(self.queue1) > 1:\n",
    "            self.queue2.append(self.queue1.popleft())\n",
    "        \n",
    "        top_element = self.queue1.popleft()\n",
    "        self.queue2.append(top_element)\n",
    "        \n",
    "        self.queue1, self.queue2 = self.queue2, self.queue1\n",
    "        return top_element\n",
    "    \n",
    "    def is_empty(self):\n",
    "        return not self.queue1\n",
    "\n",
    "# Example usage\n",
    "stack = StackUsingQueues()\n",
    "stack.push(10)\n",
    "stack.push(20)\n",
    "stack.push(30)\n",
    "\n",
    "print(\"Top element:\", stack.peek())  # Should return 30\n",
    "print(\"Popped element:\", stack.pop())  # Should return 30\n",
    "print(\"Stack empty?:\", stack.is_empty())  # Should return False\n",
    "print(\"Popped element:\", stack.pop())  # Should return 20\n",
    "print(\"Popped element:\", stack.pop())  # Should return 10\n",
    "print(\"Stack empty?:\", stack.is_empty())  # Should return True\n"
   ]
  },
  {
   "cell_type": "code",
   "execution_count": null,
   "id": "a16343d3-086b-4c81-a038-ba5b517a0086",
   "metadata": {},
   "outputs": [],
   "source": []
  }
 ],
 "metadata": {
  "kernelspec": {
   "display_name": "Python 3 (ipykernel)",
   "language": "python",
   "name": "python3"
  },
  "language_info": {
   "codemirror_mode": {
    "name": "ipython",
    "version": 3
   },
   "file_extension": ".py",
   "mimetype": "text/x-python",
   "name": "python",
   "nbconvert_exporter": "python",
   "pygments_lexer": "ipython3",
   "version": "3.12.4"
  }
 },
 "nbformat": 4,
 "nbformat_minor": 5
}
