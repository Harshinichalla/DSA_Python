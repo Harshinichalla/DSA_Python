{
 "cells": [
  {
   "cell_type": "markdown",
   "id": "6c5a8229-712d-4c4b-a400-21c16bb4003a",
   "metadata": {},
   "source": [
    "## QUESTION"
   ]
  },
  {
   "cell_type": "raw",
   "id": "5d9366de-521f-4b3c-ab5c-1511756e6b34",
   "metadata": {},
   "source": [
    "Implement a Stack for Queue Operations:\n",
    "• Use two stacks (implemented with lists) to simulate the behavior of a queue.\n",
    "Implement the following operations:\n",
    "▪ enqueue(x): Add element x to the queue.\n",
    "▪ dequeue(): Remove and return the element at the front of the queue"
   ]
  },
  {
   "cell_type": "markdown",
   "id": "6ddd1d42-4fc1-41fb-affe-645c4ec18f74",
   "metadata": {},
   "source": [
    "## CODE"
   ]
  },
  {
   "cell_type": "code",
   "execution_count": 3,
   "id": "30c0f7d0-3aa7-48fd-952e-09371f4972e1",
   "metadata": {},
   "outputs": [
    {
     "name": "stdout",
     "output_type": "stream",
     "text": [
      "Dequeued: 1\n",
      "Dequeued: 2\n",
      "Dequeued: 3\n",
      "Dequeued: 4\n"
     ]
    }
   ],
   "source": [
    "class QueueUsingStacks:\n",
    "    def __init__(self):\n",
    "        self.stack1 = []  # Main stack\n",
    "        self.stack2 = []  # Temporary stack\n",
    "\n",
    "    def enqueue(self, x):\n",
    "        self.stack1.append(x)\n",
    "    \n",
    "    def dequeue(self):\n",
    "        if not self.stack2:\n",
    "            while self.stack1:\n",
    "                self.stack2.append(self.stack1.pop())\n",
    "        \n",
    "        if not self.stack2:\n",
    "            return \"Queue is empty\"\n",
    "        return self.stack2.pop()\n",
    "\n",
    "\n",
    "queue = QueueUsingStacks()\n",
    "queue.enqueue(1)\n",
    "queue.enqueue(2)\n",
    "queue.enqueue(3)\n",
    "\n",
    "print(\"Dequeued:\", queue.dequeue())  \n",
    "print(\"Dequeued:\", queue.dequeue())  \n",
    "queue.enqueue(4)\n",
    "print(\"Dequeued:\", queue.dequeue())  \n",
    "print(\"Dequeued:\", queue.dequeue())  \n"
   ]
  },
  {
   "cell_type": "code",
   "execution_count": null,
   "id": "0ed8a270-2627-48c4-b9d5-1ae322ba07bc",
   "metadata": {},
   "outputs": [],
   "source": []
  }
 ],
 "metadata": {
  "kernelspec": {
   "display_name": "Python 3 (ipykernel)",
   "language": "python",
   "name": "python3"
  },
  "language_info": {
   "codemirror_mode": {
    "name": "ipython",
    "version": 3
   },
   "file_extension": ".py",
   "mimetype": "text/x-python",
   "name": "python",
   "nbconvert_exporter": "python",
   "pygments_lexer": "ipython3",
   "version": "3.12.4"
  }
 },
 "nbformat": 4,
 "nbformat_minor": 5
}
