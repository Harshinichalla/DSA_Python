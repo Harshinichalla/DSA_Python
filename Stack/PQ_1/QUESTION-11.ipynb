{
 "cells": [
  {
   "cell_type": "markdown",
   "id": "e4f46957-dd82-4e4c-af78-11650f64c450",
   "metadata": {},
   "source": [
    "## QUESTION"
   ]
  },
  {
   "cell_type": "raw",
   "id": "5e5a509c-d26a-4a9d-9c74-a4e8b24ba736",
   "metadata": {},
   "source": [
    " Remove All Elements Less Than X:\n",
    "• Implement a stack using a list and write a function that removes all elements less\n",
    "than a given number X from the stack. After removing the elements, return the\n",
    "modified stack."
   ]
  },
  {
   "cell_type": "markdown",
   "id": "ca93c74b-9879-459a-ab84-a2944a8a35a5",
   "metadata": {},
   "source": [
    "## CODE"
   ]
  },
  {
   "cell_type": "code",
   "execution_count": 1,
   "id": "f5be64ad-8445-4640-a95e-e3480f7f6a02",
   "metadata": {},
   "outputs": [
    {
     "name": "stdout",
     "output_type": "stream",
     "text": [
      "Original Stack: [10, 5, 20, 3, 15]\n",
      "Modified Stack: [10, 20, 15]\n"
     ]
    }
   ],
   "source": [
    "class Stack:\n",
    "    def __init__(self):\n",
    "        self.stack = []\n",
    "    \n",
    "    def push(self, x):\n",
    "        self.stack.append(x)\n",
    "    \n",
    "    def pop(self):\n",
    "        if not self.stack:\n",
    "            return \"Stack is empty\"\n",
    "        return self.stack.pop()\n",
    "    \n",
    "    def remove_less_than_x(self, x):\n",
    "        self.stack = [item for item in self.stack if item >= x]\n",
    "    \n",
    "    def get_stack(self):\n",
    "        return self.stack\n",
    "\n",
    "# Example usage\n",
    "stack = Stack()\n",
    "stack.push(10)\n",
    "stack.push(5)\n",
    "stack.push(20)\n",
    "stack.push(3)\n",
    "stack.push(15)\n",
    "\n",
    "print(\"Original Stack:\", stack.get_stack())\n",
    "stack.remove_less_than_x(10)\n",
    "print(\"Modified Stack:\", stack.get_stack())\n"
   ]
  }
 ],
 "metadata": {
  "kernelspec": {
   "display_name": "Python 3 (ipykernel)",
   "language": "python",
   "name": "python3"
  },
  "language_info": {
   "codemirror_mode": {
    "name": "ipython",
    "version": 3
   },
   "file_extension": ".py",
   "mimetype": "text/x-python",
   "name": "python",
   "nbconvert_exporter": "python",
   "pygments_lexer": "ipython3",
   "version": "3.12.4"
  }
 },
 "nbformat": 4,
 "nbformat_minor": 5
}
