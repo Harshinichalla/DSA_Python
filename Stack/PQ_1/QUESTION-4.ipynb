{
 "cells": [
  {
   "cell_type": "markdown",
   "id": "39b0ac63-75fe-4a85-a036-17ccfa58bc52",
   "metadata": {},
   "source": [
    "## QUESTION"
   ]
  },
  {
   "cell_type": "raw",
   "id": "f951f226-38db-4a8b-bc7b-48194e37665f",
   "metadata": {},
   "source": [
    "Undo/Redo Operation with Stack:\n",
    "• Implement an undo/redo system using two stacks. One stack will hold the history\n",
    "of actions (for undo), and another stack will hold the actions that were undone (for\n",
    "redo). The stack should be able to support undo() and redo() operations."
   ]
  },
  {
   "cell_type": "markdown",
   "id": "0b7be27f-37e0-4e34-9af5-4934a78d69dd",
   "metadata": {},
   "source": [
    "## CODE"
   ]
  },
  {
   "cell_type": "code",
   "execution_count": 1,
   "id": "ca87bd3c-e23b-44c6-b403-2b58454fdcdc",
   "metadata": {},
   "outputs": [
    {
     "name": "stdout",
     "output_type": "stream",
     "text": [
      "Undid: Type C\n",
      "Undid: Type B\n",
      "Redid: Type B\n",
      "Undid: Type D\n"
     ]
    }
   ],
   "source": [
    "class UndoRedoStack:\n",
    "    def __init__(self):\n",
    "        self.undo_stack = []  # Stack to hold history of actions\n",
    "        self.redo_stack = []  # Stack to hold undone actions\n",
    "\n",
    "    def perform_action(self, action):\n",
    "        self.undo_stack.append(action)\n",
    "        self.redo_stack.clear()  # Clear redo stack on new action\n",
    "\n",
    "    def undo(self):\n",
    "        if not self.undo_stack:\n",
    "            return \"Nothing to undo\"\n",
    "        action = self.undo_stack.pop()\n",
    "        self.redo_stack.append(action)\n",
    "        return f\"Undid: {action}\"\n",
    "\n",
    "    def redo(self):\n",
    "        if not self.redo_stack:\n",
    "            return \"Nothing to redo\"\n",
    "        action = self.redo_stack.pop()\n",
    "        self.undo_stack.append(action)\n",
    "        return f\"Redid: {action}\"\n",
    "\n",
    "# Example usage\n",
    "history = UndoRedoStack()\n",
    "history.perform_action(\"Type A\")\n",
    "history.perform_action(\"Type B\")\n",
    "history.perform_action(\"Type C\")\n",
    "\n",
    "print(history.undo())  # Should undo \"Type C\"\n",
    "print(history.undo())  # Should undo \"Type B\"\n",
    "print(history.redo())  # Should redo \"Type B\"\n",
    "history.perform_action(\"Type D\")  # New action, clears redo stack\n",
    "print(history.undo())  # Should undo \"Type D\"\n"
   ]
  }
 ],
 "metadata": {
  "kernelspec": {
   "display_name": "Python 3 (ipykernel)",
   "language": "python",
   "name": "python3"
  },
  "language_info": {
   "codemirror_mode": {
    "name": "ipython",
    "version": 3
   },
   "file_extension": ".py",
   "mimetype": "text/x-python",
   "name": "python",
   "nbconvert_exporter": "python",
   "pygments_lexer": "ipython3",
   "version": "3.12.4"
  }
 },
 "nbformat": 4,
 "nbformat_minor": 5
}
