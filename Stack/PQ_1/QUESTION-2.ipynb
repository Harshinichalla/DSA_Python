{
 "cells": [
  {
   "cell_type": "markdown",
   "id": "b7efd99f-7b99-4402-81e5-1b418d1e6a7a",
   "metadata": {},
   "source": [
    "## QUESTION"
   ]
  },
  {
   "cell_type": "raw",
   "id": "79afda33-098e-4c31-b816-f65cf2451a5d",
   "metadata": {},
   "source": [
    "Stack Sort Algorithm:-\n",
    "Implement a stack using a list and sort the elements using only stack operations\n",
    "(i.e., push, pop). You are not allowed to use any other data structures like lists,\n",
    "queues, or arrays to store intermediate elements."
   ]
  },
  {
   "cell_type": "markdown",
   "id": "6b77577f-48c7-4ec7-97f2-5994d1bdb6cd",
   "metadata": {},
   "source": [
    "## CODE"
   ]
  },
  {
   "cell_type": "code",
   "execution_count": 6,
   "id": "be0c553b-6860-4ddb-887a-3d09e3860b86",
   "metadata": {},
   "outputs": [
    {
     "name": "stdout",
     "output_type": "stream",
     "text": [
      "Original Stack: [2, 3, 9, 5, 4, 1, 8]\n",
      "Sorted Stack: [1, 2, 3, 4, 5, 8, 9]\n"
     ]
    }
   ],
   "source": [
    "class Stack:\n",
    "    def __init__(self):\n",
    "        self.stack = []\n",
    "    \n",
    "    def push(self, item):\n",
    "        self.stack.append(item)\n",
    "    \n",
    "    def pop(self):\n",
    "        if not self.is_empty():\n",
    "            return self.stack.pop()\n",
    "        return None\n",
    "    \n",
    "    def is_empty(self):\n",
    "        return len(self.stack) == 0\n",
    "    \n",
    "    def peek(self):\n",
    "        if not self.is_empty():\n",
    "            return self.stack[-1]\n",
    "        return None\n",
    "\n",
    "def sorted_insert(stack, element):\n",
    "    if stack.is_empty() or element > stack.peek():\n",
    "        stack.push(element)\n",
    "    else:\n",
    "        temp = stack.pop()\n",
    "        sorted_insert(stack, element)\n",
    "        stack.push(temp)\n",
    "\n",
    "def sort_stack(stack):\n",
    "    if not stack.is_empty():\n",
    "        temp = stack.pop()\n",
    "        sort_stack(stack)\n",
    "        sorted_insert(stack, temp)\n",
    "\n",
    "# Example usage\n",
    "stack = Stack()\n",
    "numbers = [2,3,9,5,4,1,8]\n",
    "for num in numbers:\n",
    "    stack.push(num)\n",
    "\n",
    "print(\"Original Stack:\", stack.stack)\n",
    "sort_stack(stack)\n",
    "print(\"Sorted Stack:\", stack.stack)\n"
   ]
  },
  {
   "cell_type": "code",
   "execution_count": null,
   "id": "8ef45b4c-3e69-4783-a213-5b4d3a5f96e0",
   "metadata": {},
   "outputs": [],
   "source": []
  }
 ],
 "metadata": {
  "kernelspec": {
   "display_name": "Python 3 (ipykernel)",
   "language": "python",
   "name": "python3"
  },
  "language_info": {
   "codemirror_mode": {
    "name": "ipython",
    "version": 3
   },
   "file_extension": ".py",
   "mimetype": "text/x-python",
   "name": "python",
   "nbconvert_exporter": "python",
   "pygments_lexer": "ipython3",
   "version": "3.12.4"
  }
 },
 "nbformat": 4,
 "nbformat_minor": 5
}
