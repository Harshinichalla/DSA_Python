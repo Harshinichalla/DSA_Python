{
 "cells": [
  {
   "cell_type": "markdown",
   "id": "7db0e930-6320-47ba-88bb-632415265a5a",
   "metadata": {},
   "source": [
    "## QUESTION"
   ]
  },
  {
   "cell_type": "raw",
   "id": "16834416-37d1-4ae1-b058-af9e7970103a",
   "metadata": {},
   "source": [
    "Check if a Stack is Palindrome:\n",
    "• Implement a stack using a list and write a function to check whether the elements\n",
    "of a stack form a palindrome (i.e., the stack is the same when reversed)."
   ]
  },
  {
   "cell_type": "markdown",
   "id": "10361228-eb83-4fca-99fe-2c50476f4e98",
   "metadata": {},
   "source": [
    "## CODE"
   ]
  },
  {
   "cell_type": "code",
   "execution_count": 1,
   "id": "7c96ecd7-2681-4073-b9c3-c75973a5a0d3",
   "metadata": {},
   "outputs": [
    {
     "name": "stdout",
     "output_type": "stream",
     "text": [
      "Is stack palindrome?: True\n",
      "Is stack palindrome?: False\n"
     ]
    }
   ],
   "source": [
    "class Stack:\n",
    "    def __init__(self):\n",
    "        self.stack = []\n",
    "    \n",
    "    def push(self, x):\n",
    "        self.stack.append(x)\n",
    "    \n",
    "    def pop(self):\n",
    "        if not self.stack:\n",
    "            return \"Stack is empty\"\n",
    "        return self.stack.pop()\n",
    "    \n",
    "    def is_palindrome(self):\n",
    "        return self.stack == self.stack[::-1]\n",
    "\n",
    "# Example usage\n",
    "stack = Stack()\n",
    "stack.push('r')\n",
    "stack.push('a')\n",
    "stack.push('d')\n",
    "stack.push('a')\n",
    "stack.push('r')\n",
    "\n",
    "print(\"Is stack palindrome?:\", stack.is_palindrome())  # Should return True\n",
    "\n",
    "stack.push('x')\n",
    "print(\"Is stack palindrome?:\", stack.is_palindrome())  # Should return False\n"
   ]
  }
 ],
 "metadata": {
  "kernelspec": {
   "display_name": "Python 3 (ipykernel)",
   "language": "python",
   "name": "python3"
  },
  "language_info": {
   "codemirror_mode": {
    "name": "ipython",
    "version": 3
   },
   "file_extension": ".py",
   "mimetype": "text/x-python",
   "name": "python",
   "nbconvert_exporter": "python",
   "pygments_lexer": "ipython3",
   "version": "3.12.4"
  }
 },
 "nbformat": 4,
 "nbformat_minor": 5
}
