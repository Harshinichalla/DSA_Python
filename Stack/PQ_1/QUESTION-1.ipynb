{
 "cells": [
  {
   "cell_type": "markdown",
   "id": "e48d1248-799f-434e-b8bb-0270c2d6e81a",
   "metadata": {},
   "source": [
    "## QUESTION"
   ]
  },
  {
   "cell_type": "raw",
   "id": "2bb2a479-0f0c-4c78-aad5-94a8590769c8",
   "metadata": {},
   "source": [
    "1. Reverse a String using a Stack:\n",
    "• Implement a stack using a list and write a function to reverse a given string. Push\n",
    "each character of the string onto the stack, then pop each character off the stack to\n",
    "reverse the string"
   ]
  },
  {
   "cell_type": "markdown",
   "id": "7c3bf9c9-7783-4996-bc09-36549d6ac83c",
   "metadata": {},
   "source": [
    "## CODE"
   ]
  },
  {
   "cell_type": "code",
   "execution_count": 3,
   "id": "7c56bb32-4918-4511-90e1-b0e96dbebfe4",
   "metadata": {},
   "outputs": [
    {
     "name": "stdout",
     "output_type": "stream",
     "text": [
      "Original String: DSA\n",
      "Reversed String: ASD\n"
     ]
    }
   ],
   "source": [
    "class Stack:\n",
    "    def __init__(self):\n",
    "        self.stack = []\n",
    "    \n",
    "    def push(self, item):\n",
    "        self.stack.append(item)\n",
    "    \n",
    "    def pop(self):\n",
    "        if not self.is_empty():\n",
    "            return self.stack.pop()\n",
    "        return None\n",
    "    \n",
    "    def is_empty(self):\n",
    "        return len(self.stack) == 0\n",
    "\n",
    "def reverse_string(input_string):\n",
    "    stack = Stack()\n",
    "    \n",
    "    \n",
    "    for char in input_string:\n",
    "        stack.push(char)\n",
    "    \n",
    "    \n",
    "    reversed_str = \"\"\n",
    "    while not stack.is_empty():\n",
    "        reversed_str += stack.pop()\n",
    "    \n",
    "    return reversed_str\n",
    "\n",
    "input_string = \"DSA\"\n",
    "reversed_string = reverse_string(input_string)\n",
    "print(\"Original String:\", input_string)\n",
    "print(\"Reversed String:\", reversed_string)\n"
   ]
  }
 ],
 "metadata": {
  "kernelspec": {
   "display_name": "Python 3 (ipykernel)",
   "language": "python",
   "name": "python3"
  },
  "language_info": {
   "codemirror_mode": {
    "name": "ipython",
    "version": 3
   },
   "file_extension": ".py",
   "mimetype": "text/x-python",
   "name": "python",
   "nbconvert_exporter": "python",
   "pygments_lexer": "ipython3",
   "version": "3.12.4"
  }
 },
 "nbformat": 4,
 "nbformat_minor": 5
}
