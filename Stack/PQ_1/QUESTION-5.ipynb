{
 "cells": [
  {
   "cell_type": "markdown",
   "id": "4b2a3f44-dffb-4a57-9e53-73a107a67650",
   "metadata": {},
   "source": [
    "## QUESTION"
   ]
  },
  {
   "cell_type": "raw",
   "id": "9e08cc54-a760-41b0-93ed-1b4fdc511938",
   "metadata": {},
   "source": [
    "mplement a Stack that Supports Getting the Middle Element:\n",
    "• Implement a stack using a list that supports the following operations:\n",
    "o push(x): Push an element onto the stack.\n",
    "o pop(): Remove the element at the top of the stack.\n",
    "o get_middle(): Return the middle element of the stack. If the stack has an even\n",
    "number of elements, return the lower of the two middle elements."
   ]
  },
  {
   "cell_type": "markdown",
   "id": "3f6cae33-a48b-441c-abbc-c03e6c60c09c",
   "metadata": {},
   "source": [
    "## CODE"
   ]
  },
  {
   "cell_type": "code",
   "execution_count": 1,
   "id": "350d088f-e4a3-47d2-808e-db96fa4d3fdb",
   "metadata": {},
   "outputs": [
    {
     "name": "stdout",
     "output_type": "stream",
     "text": [
      "Middle Element: 30\n",
      "Middle Element: 20\n"
     ]
    }
   ],
   "source": [
    "class StackWithMiddle:\n",
    "    def __init__(self):\n",
    "        self.stack = []\n",
    "    \n",
    "    def push(self, x):\n",
    "        self.stack.append(x)\n",
    "    \n",
    "    def pop(self):\n",
    "        if not self.stack:\n",
    "            return \"Stack is empty\"\n",
    "        return self.stack.pop()\n",
    "    \n",
    "    def get_middle(self):\n",
    "        if not self.stack:\n",
    "            return \"Stack is empty\"\n",
    "        mid_index = (len(self.stack) - 1) // 2\n",
    "        return self.stack[mid_index]\n",
    "\n",
    "# Example usage\n",
    "stack = StackWithMiddle()\n",
    "stack.push(10)\n",
    "stack.push(20)\n",
    "stack.push(30)\n",
    "stack.push(40)\n",
    "stack.push(50)\n",
    "\n",
    "print(\"Middle Element:\", stack.get_middle())  # Should return 30\n",
    "stack.pop()\n",
    "print(\"Middle Element:\", stack.get_middle())  # Should return 20\n"
   ]
  }
 ],
 "metadata": {
  "kernelspec": {
   "display_name": "Python 3 (ipykernel)",
   "language": "python",
   "name": "python3"
  },
  "language_info": {
   "codemirror_mode": {
    "name": "ipython",
    "version": 3
   },
   "file_extension": ".py",
   "mimetype": "text/x-python",
   "name": "python",
   "nbconvert_exporter": "python",
   "pygments_lexer": "ipython3",
   "version": "3.12.4"
  }
 },
 "nbformat": 4,
 "nbformat_minor": 5
}
