{
 "cells": [
  {
   "cell_type": "markdown",
   "id": "6a42282b-e552-4109-8324-8ff3ad4cbaaf",
   "metadata": {},
   "source": [
    "## QUESTION"
   ]
  },
  {
   "cell_type": "raw",
   "id": "6c4e56c4-0671-42a6-80a9-0cf4fc5c60f8",
   "metadata": {},
   "source": [
    "Next Greater Element using Stack:\n",
    "• Given a list of numbers, implement a stack to find the next greater element for each\n",
    "element in the list. For each element, find the nearest greater element that appears\n",
    "later in the list. If no greater element exists, return -1."
   ]
  },
  {
   "cell_type": "markdown",
   "id": "7823b2e4-0f5e-47b4-9bda-121485409ad3",
   "metadata": {},
   "source": [
    "## CODE"
   ]
  },
  {
   "cell_type": "code",
   "execution_count": 1,
   "id": "193fe8aa-26c8-443f-bf73-bd40c8534d6c",
   "metadata": {},
   "outputs": [
    {
     "name": "stdout",
     "output_type": "stream",
     "text": [
      "Next greater elements: [5, 10, 10, -1, -1]\n"
     ]
    }
   ],
   "source": [
    "def next_greater_element(arr):\n",
    "    stack = []\n",
    "    result = [-1] * len(arr)\n",
    "    \n",
    "    for i in range(len(arr) - 1, -1, -1):\n",
    "        while stack and stack[-1] <= arr[i]:\n",
    "            stack.pop()\n",
    "        \n",
    "        if stack:\n",
    "            result[i] = stack[-1]\n",
    "        \n",
    "        stack.append(arr[i])\n",
    "    \n",
    "    return result\n",
    "\n",
    "# Example usage\n",
    "arr = [4, 5, 2, 10, 8]\n",
    "print(\"Next greater elements:\", next_greater_element(arr))  # Output: [5, 10, 10, -1, -1]\n"
   ]
  }
 ],
 "metadata": {
  "kernelspec": {
   "display_name": "Python 3 (ipykernel)",
   "language": "python",
   "name": "python3"
  },
  "language_info": {
   "codemirror_mode": {
    "name": "ipython",
    "version": 3
   },
   "file_extension": ".py",
   "mimetype": "text/x-python",
   "name": "python",
   "nbconvert_exporter": "python",
   "pygments_lexer": "ipython3",
   "version": "3.12.4"
  }
 },
 "nbformat": 4,
 "nbformat_minor": 5
}
