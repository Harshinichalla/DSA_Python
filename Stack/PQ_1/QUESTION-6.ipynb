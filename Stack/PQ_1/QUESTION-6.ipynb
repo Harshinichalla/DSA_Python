{
 "cells": [
  {
   "cell_type": "markdown",
   "id": "0d4832aa-fd51-42c3-b734-fd4821454208",
   "metadata": {},
   "source": [
    "## QUESTION"
   ]
  },
  {
   "cell_type": "raw",
   "id": "786f6fb2-4d7c-4350-b25f-734e60868b3d",
   "metadata": {},
   "source": [
    "Remove Duplicates from a Stack:\n",
    "• Implement a function that removes all duplicate elements from a stack. The stack\n",
    "is represented as a list, and the function should ensure the stack contains only unique\n",
    "elements in the order they first appeared."
   ]
  },
  {
   "cell_type": "markdown",
   "id": "869f35bd-f55c-494f-8f6a-386cd210353d",
   "metadata": {},
   "source": [
    "## CODE"
   ]
  },
  {
   "cell_type": "code",
   "execution_count": 1,
   "id": "89691720-69db-4707-8bc0-f80820f06110",
   "metadata": {},
   "outputs": [
    {
     "name": "stdout",
     "output_type": "stream",
     "text": [
      "Stack before removing duplicates: [10, 20, 30, 20, 40, 10]\n",
      "Stack after removing duplicates: [10, 20, 30, 40]\n"
     ]
    }
   ],
   "source": [
    "class Stack:\n",
    "    def __init__(self):\n",
    "        self.stack = []\n",
    "    \n",
    "    def push(self, x):\n",
    "        self.stack.append(x)\n",
    "    \n",
    "    def pop(self):\n",
    "        if not self.stack:\n",
    "            return \"Stack is empty\"\n",
    "        return self.stack.pop()\n",
    "    \n",
    "    def remove_duplicates(self):\n",
    "        seen = set()\n",
    "        unique_stack = []\n",
    "        \n",
    "        for item in self.stack:\n",
    "            if item not in seen:\n",
    "                seen.add(item)\n",
    "                unique_stack.append(item)\n",
    "        \n",
    "        self.stack = unique_stack\n",
    "\n",
    "# Example usage\n",
    "stack = Stack()\n",
    "stack.push(10)\n",
    "stack.push(20)\n",
    "stack.push(30)\n",
    "stack.push(20)\n",
    "stack.push(40)\n",
    "stack.push(10)\n",
    "\n",
    "print(\"Stack before removing duplicates:\", stack.stack)\n",
    "stack.remove_duplicates()\n",
    "print(\"Stack after removing duplicates:\", stack.stack)"
   ]
  },
  {
   "cell_type": "code",
   "execution_count": null,
   "id": "57044088-9a37-4bf1-8817-f5789a64a7de",
   "metadata": {},
   "outputs": [],
   "source": []
  }
 ],
 "metadata": {
  "kernelspec": {
   "display_name": "Python 3 (ipykernel)",
   "language": "python",
   "name": "python3"
  },
  "language_info": {
   "codemirror_mode": {
    "name": "ipython",
    "version": 3
   },
   "file_extension": ".py",
   "mimetype": "text/x-python",
   "name": "python",
   "nbconvert_exporter": "python",
   "pygments_lexer": "ipython3",
   "version": "3.12.4"
  }
 },
 "nbformat": 4,
 "nbformat_minor": 5
}
