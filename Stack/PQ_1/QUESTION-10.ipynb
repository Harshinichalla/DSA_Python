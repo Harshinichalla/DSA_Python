{
 "cells": [
  {
   "cell_type": "markdown",
   "id": "59a68c09-d830-4ddc-bdde-410167f68b92",
   "metadata": {},
   "source": [
    "## QUESTION"
   ]
  },
  {
   "cell_type": "raw",
   "id": "f2ea7a36-c680-4077-bb06-6ecc671a2fc6",
   "metadata": {},
   "source": [
    "Reverse a Queue using a Stack:\n",
    "• Given a queue, implement a stack to reverse the queue using only stack operations\n",
    "(push, pop). You cannot use any other additional data structures for storing\n",
    "intermediate elements."
   ]
  },
  {
   "cell_type": "markdown",
   "id": "b18607d4-95ba-44d5-b178-a7347b8279bc",
   "metadata": {},
   "source": [
    "## CODE"
   ]
  },
  {
   "cell_type": "code",
   "execution_count": 1,
   "id": "ca825087-8e9e-4858-aa04-f5686e87ff40",
   "metadata": {},
   "outputs": [
    {
     "name": "stdout",
     "output_type": "stream",
     "text": [
      "Original Queue: [1, 2, 3, 4, 5]\n",
      "Reversed Queue: [5, 4, 3, 2, 1]\n"
     ]
    }
   ],
   "source": [
    "from collections import deque\n",
    "\n",
    "def reverse_queue(queue):\n",
    "    stack = []\n",
    "    \n",
    "    while queue:\n",
    "        stack.append(queue.popleft())\n",
    "    \n",
    "    while stack:\n",
    "        queue.append(stack.pop())\n",
    "    \n",
    "    return queue\n",
    "\n",
    "# Example usage\n",
    "queue = deque([1, 2, 3, 4, 5])\n",
    "print(\"Original Queue:\", list(queue))\n",
    "reversed_queue = reverse_queue(queue)\n",
    "print(\"Reversed Queue:\", list(reversed_queue))\n"
   ]
  }
 ],
 "metadata": {
  "kernelspec": {
   "display_name": "Python 3 (ipykernel)",
   "language": "python",
   "name": "python3"
  },
  "language_info": {
   "codemirror_mode": {
    "name": "ipython",
    "version": 3
   },
   "file_extension": ".py",
   "mimetype": "text/x-python",
   "name": "python",
   "nbconvert_exporter": "python",
   "pygments_lexer": "ipython3",
   "version": "3.12.4"
  }
 },
 "nbformat": 4,
 "nbformat_minor": 5
}
