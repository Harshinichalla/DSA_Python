{
 "cells": [
  {
   "cell_type": "code",
   "execution_count": 3,
   "id": "03a73954-55ef-470e-b427-6ce7181e1cfc",
   "metadata": {},
   "outputs": [
    {
     "name": "stdout",
     "output_type": "stream",
     "text": [
      "program to implement the stack using linked list\n",
      "1.push\n",
      "2.pop\n",
      "3.peek\n",
      "4.Display\n",
      "5.Exit\n"
     ]
    },
    {
     "name": "stdin",
     "output_type": "stream",
     "text": [
      "Enter your choice: 1\n",
      "Enter the data: 10\n"
     ]
    },
    {
     "name": "stdout",
     "output_type": "stream",
     "text": [
      "program to implement the stack using linked list\n",
      "1.push\n",
      "2.pop\n",
      "3.peek\n",
      "4.Display\n",
      "5.Exit\n"
     ]
    },
    {
     "name": "stdin",
     "output_type": "stream",
     "text": [
      "Enter your choice: 1\n",
      "Enter the data: 20\n"
     ]
    },
    {
     "name": "stdout",
     "output_type": "stream",
     "text": [
      "program to implement the stack using linked list\n",
      "1.push\n",
      "2.pop\n",
      "3.peek\n",
      "4.Display\n",
      "5.Exit\n"
     ]
    },
    {
     "name": "stdin",
     "output_type": "stream",
     "text": [
      "Enter your choice: 1\n",
      "Enter the data: 30\n"
     ]
    },
    {
     "name": "stdout",
     "output_type": "stream",
     "text": [
      "program to implement the stack using linked list\n",
      "1.push\n",
      "2.pop\n",
      "3.peek\n",
      "4.Display\n",
      "5.Exit\n"
     ]
    },
    {
     "name": "stdin",
     "output_type": "stream",
     "text": [
      "Enter your choice: 1\n",
      "Enter the data: 40\n"
     ]
    },
    {
     "name": "stdout",
     "output_type": "stream",
     "text": [
      "program to implement the stack using linked list\n",
      "1.push\n",
      "2.pop\n",
      "3.peek\n",
      "4.Display\n",
      "5.Exit\n"
     ]
    },
    {
     "name": "stdin",
     "output_type": "stream",
     "text": [
      "Enter your choice: 1\n",
      "Enter the data: 50\n"
     ]
    },
    {
     "name": "stdout",
     "output_type": "stream",
     "text": [
      "program to implement the stack using linked list\n",
      "1.push\n",
      "2.pop\n",
      "3.peek\n",
      "4.Display\n",
      "5.Exit\n"
     ]
    },
    {
     "name": "stdin",
     "output_type": "stream",
     "text": [
      "Enter your choice: 3\n"
     ]
    },
    {
     "name": "stdout",
     "output_type": "stream",
     "text": [
      "The top element: 50\n",
      "program to implement the stack using linked list\n",
      "1.push\n",
      "2.pop\n",
      "3.peek\n",
      "4.Display\n",
      "5.Exit\n"
     ]
    },
    {
     "name": "stdin",
     "output_type": "stream",
     "text": [
      "Enter your choice: 4\n"
     ]
    },
    {
     "name": "stdout",
     "output_type": "stream",
     "text": [
      "stack elements from top to bottom:\n",
      "50\n",
      "40\n",
      "30\n",
      "20\n",
      "10\n",
      "program to implement the stack using linked list\n",
      "1.push\n",
      "2.pop\n",
      "3.peek\n",
      "4.Display\n",
      "5.Exit\n"
     ]
    },
    {
     "name": "stdin",
     "output_type": "stream",
     "text": [
      "Enter your choice: 2\n"
     ]
    },
    {
     "name": "stdout",
     "output_type": "stream",
     "text": [
      "The popped element: 50\n",
      "program to implement the stack using linked list\n",
      "1.push\n",
      "2.pop\n",
      "3.peek\n",
      "4.Display\n",
      "5.Exit\n"
     ]
    },
    {
     "name": "stdin",
     "output_type": "stream",
     "text": [
      "Enter your choice: 40\n"
     ]
    },
    {
     "name": "stdout",
     "output_type": "stream",
     "text": [
      "Invalid choice!! Enter the choice(1-5)!\n",
      "program to implement the stack using linked list\n",
      "1.push\n",
      "2.pop\n",
      "3.peek\n",
      "4.Display\n",
      "5.Exit\n"
     ]
    },
    {
     "name": "stdin",
     "output_type": "stream",
     "text": [
      "Enter your choice: 4\n"
     ]
    },
    {
     "name": "stdout",
     "output_type": "stream",
     "text": [
      "stack elements from top to bottom:\n",
      "40\n",
      "30\n",
      "20\n",
      "10\n",
      "program to implement the stack using linked list\n",
      "1.push\n",
      "2.pop\n",
      "3.peek\n",
      "4.Display\n",
      "5.Exit\n"
     ]
    },
    {
     "name": "stdin",
     "output_type": "stream",
     "text": [
      "Enter your choice: 5\n"
     ]
    },
    {
     "name": "stdout",
     "output_type": "stream",
     "text": [
      "Quitting......\n"
     ]
    }
   ],
   "source": [
    "class StackNode:\n",
    "    def __init__(self,NewData,link=None):\n",
    "        self.data=NewData\n",
    "        self.next=link\n",
    "        \n",
    "class Stack:\n",
    "    def __init__(self):\n",
    "        self.top=None\n",
    "        \n",
    "    def isempty(self):\n",
    "        return self.top is None\n",
    "        \n",
    "    def peek(self):\n",
    "        if self.isempty():\n",
    "            print(\"stack is empty\")\n",
    "            return None\n",
    "        return self.top.data\n",
    "        \n",
    "    def pop(self):\n",
    "        if self.isempty():\n",
    "            return \"stack Underflow\"\n",
    "        node=self.top\n",
    "        self.top=self.top.next\n",
    "        return node.data\n",
    "        \n",
    "    def push(self,NewData):\n",
    "        self.top=StackNode(NewData,self.top)\n",
    "        \n",
    "    def display(self):\n",
    "        if self.isempty():\n",
    "            print(\"stack is empty\")\n",
    "            return\n",
    "        curNode=self.top\n",
    "        print(\"stack elements from top to bottom:\")\n",
    "        while curNode is not None:\n",
    "            print(curNode.data)\n",
    "            curNode=curNode.next\n",
    "s=Stack()\n",
    "while True:\n",
    "    print(\"program to implement the stack using linked list\")\n",
    "    print(\"1.push\")\n",
    "    print(\"2.pop\")\n",
    "    print(\"3.peek\")\n",
    "    print(\"4.Display\")\n",
    "    print(\"5.Exit\")\n",
    "    choice=int(input(\"Enter your choice:\"))\n",
    "    if choice==1:\n",
    "        num =int(input(\"Enter the data:\"))\n",
    "        s.push(num)\n",
    "    elif choice==2:\n",
    "        if s.isempty():\n",
    "            print(\"Stack underflow\")\n",
    "        else:\n",
    "            num=s.pop()\n",
    "            print(\"The popped element:\",num)\n",
    "    elif choice==3:\n",
    "        if s.isempty():\n",
    "            print(\"Stack underflow\")\n",
    "        else:\n",
    "            num=s.peek()\n",
    "            print(\"The top element:\",num)\n",
    "    elif choice==4:\n",
    "        s.display()\n",
    "    elif choice==5:\n",
    "        print(\"Quitting......\")\n",
    "        break\n",
    "    else:\n",
    "        print(\"Invalid choice!! Enter the choice(1-5)!\")\n",
    "        continue"
   ]
  },
  {
   "cell_type": "code",
   "execution_count": null,
   "id": "84a0c985-bfd2-4a07-81fe-7b64f4c539e8",
   "metadata": {},
   "outputs": [],
   "source": []
  },
  {
   "cell_type": "code",
   "execution_count": null,
   "id": "57444b9a-14a6-47ab-a2e5-e0cdf26f7b2e",
   "metadata": {},
   "outputs": [],
   "source": []
  }
 ],
 "metadata": {
  "kernelspec": {
   "display_name": "Python 3 (ipykernel)",
   "language": "python",
   "name": "python3"
  },
  "language_info": {
   "codemirror_mode": {
    "name": "ipython",
    "version": 3
   },
   "file_extension": ".py",
   "mimetype": "text/x-python",
   "name": "python",
   "nbconvert_exporter": "python",
   "pygments_lexer": "ipython3",
   "version": "3.12.4"
  }
 },
 "nbformat": 4,
 "nbformat_minor": 5
}
