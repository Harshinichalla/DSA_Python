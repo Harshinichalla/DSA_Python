{
 "cells": [
  {
   "cell_type": "markdown",
   "id": "b5ae7c45-864d-4f95-95f6-4950cef3f324",
   "metadata": {},
   "source": [
    "## QUESTION"
   ]
  },
  {
   "cell_type": "raw",
   "id": "02808d5a-adac-40b9-b969-cfe402240fe7",
   "metadata": {},
   "source": [
    "Write a program to convert a postfix expression to its equivalent prefix expression."
   ]
  },
  {
   "cell_type": "markdown",
   "id": "8dd769fc-2b07-47d2-ba34-23a3ce69b528",
   "metadata": {},
   "source": [
    "## CODE"
   ]
  },
  {
   "cell_type": "code",
   "execution_count": 1,
   "id": "8209b0ee-8869-4ea8-b03e-7a318434051c",
   "metadata": {},
   "outputs": [
    {
     "name": "stdout",
     "output_type": "stream",
     "text": [
      "Prefix Expression: *+abc\n",
      "Prefix Expression: +a+bc\n",
      "Prefix Expression: +*abc\n"
     ]
    }
   ],
   "source": [
    "def postfix_to_prefix(expression):\n",
    "    stack = []\n",
    "    operators = set(['+', '-', '*', '/'])\n",
    "    \n",
    "    for char in expression:\n",
    "        if char not in operators:\n",
    "            stack.append(char)\n",
    "        else:\n",
    "            operand2 = stack.pop()\n",
    "            operand1 = stack.pop()\n",
    "            new_expr = f\"{char}{operand1}{operand2}\"\n",
    "            stack.append(new_expr)\n",
    "    \n",
    "    return stack[-1]\n",
    "postfix_expr1 = \"ab+c*\"\n",
    "postfix_expr2 = \"abc++\"\n",
    "postfix_expr3 = \"ab*c+\"\n",
    "\n",
    "print(\"Prefix Expression:\", postfix_to_prefix(postfix_expr1))  \n",
    "print(\"Prefix Expression:\", postfix_to_prefix(postfix_expr2))  \n",
    "print(\"Prefix Expression:\", postfix_to_prefix(postfix_expr3))  \n"
   ]
  }
 ],
 "metadata": {
  "kernelspec": {
   "display_name": "Python 3 (ipykernel)",
   "language": "python",
   "name": "python3"
  },
  "language_info": {
   "codemirror_mode": {
    "name": "ipython",
    "version": 3
   },
   "file_extension": ".py",
   "mimetype": "text/x-python",
   "name": "python",
   "nbconvert_exporter": "python",
   "pygments_lexer": "ipython3",
   "version": "3.12.4"
  }
 },
 "nbformat": 4,
 "nbformat_minor": 5
}
