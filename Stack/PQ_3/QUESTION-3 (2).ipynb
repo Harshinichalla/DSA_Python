{
 "cells": [
  {
   "cell_type": "markdown",
   "id": "03cbc53a-e56d-47f6-bdd7-349b5b5c2b9e",
   "metadata": {},
   "source": [
    "## QUESTION"
   ]
  },
  {
   "cell_type": "raw",
   "id": "19cbfecf-bb12-40da-8c8d-ea4f05d75ccc",
   "metadata": {},
   "source": [
    "Write a program to convert a prefix expression to its equivalent postfix expression"
   ]
  },
  {
   "cell_type": "markdown",
   "id": "4acf1d42-60ab-4ee6-9b39-0aafd5f8de3c",
   "metadata": {},
   "source": [
    "## CODE"
   ]
  },
  {
   "cell_type": "code",
   "execution_count": 1,
   "id": "a7fbb684-ffe4-4b06-8afe-275bc76ebbdd",
   "metadata": {},
   "outputs": [
    {
     "name": "stdout",
     "output_type": "stream",
     "text": [
      "Postfix Expression: ab+c*\n",
      "Postfix Expression: ab+c+\n",
      "Postfix Expression: ab*c+\n"
     ]
    }
   ],
   "source": [
    "def prefix_to_postfix(expression):\n",
    "    stack = []\n",
    "    operators = set(['+', '-', '*', '/'])\n",
    "    \n",
    "    for char in reversed(expression):\n",
    "        if char not in operators:\n",
    "            stack.append(char)\n",
    "        else:\n",
    "            operand1 = stack.pop()\n",
    "            operand2 = stack.pop()\n",
    "            new_expr = f\"{operand1}{operand2}{char}\"\n",
    "            stack.append(new_expr)\n",
    "    \n",
    "    return stack[-1]\n",
    "\n",
    "prefix_expr1 = \"*+abc\"\n",
    "prefix_expr2 = \"++abc\"\n",
    "prefix_expr3 = \"+*abc\"\n",
    "\n",
    "print(\"Postfix Expression:\", prefix_to_postfix(prefix_expr1)) \n",
    "print(\"Postfix Expression:\", prefix_to_postfix(prefix_expr2))  \n",
    "print(\"Postfix Expression:\", prefix_to_postfix(prefix_expr3))  \n"
   ]
  }
 ],
 "metadata": {
  "kernelspec": {
   "display_name": "Python 3 (ipykernel)",
   "language": "python",
   "name": "python3"
  },
  "language_info": {
   "codemirror_mode": {
    "name": "ipython",
    "version": 3
   },
   "file_extension": ".py",
   "mimetype": "text/x-python",
   "name": "python",
   "nbconvert_exporter": "python",
   "pygments_lexer": "ipython3",
   "version": "3.12.4"
  }
 },
 "nbformat": 4,
 "nbformat_minor": 5
}
