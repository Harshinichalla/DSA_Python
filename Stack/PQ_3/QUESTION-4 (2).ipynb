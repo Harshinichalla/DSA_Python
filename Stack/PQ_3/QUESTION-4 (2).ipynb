{
 "cells": [
  {
   "cell_type": "markdown",
   "id": "b6a4be75-dfdb-4193-91d5-d543305713b5",
   "metadata": {},
   "source": [
    "## QUESTION"
   ]
  },
  {
   "cell_type": "raw",
   "id": "f8581cde-8904-460b-9373-3f87378adb3d",
   "metadata": {},
   "source": [
    "Write a program to implement multiple stacks using a single list."
   ]
  },
  {
   "cell_type": "markdown",
   "id": "e43ffc99-862e-49df-bad9-b4d6abca301e",
   "metadata": {},
   "source": [
    "## CODE"
   ]
  },
  {
   "cell_type": "code",
   "execution_count": 4,
   "id": "9f93bb29-194b-40bc-8392-79fdf307bec5",
   "metadata": {},
   "outputs": [
    {
     "name": "stdout",
     "output_type": "stream",
     "text": [
      "Popped from stack 0: 10\n",
      "Popped from stack 1: 20\n",
      "Popped from stack 2: 30\n"
     ]
    }
   ],
   "source": [
    "class MultipleStacks:\n",
    "    def __init__(self, num_stacks, size):\n",
    "        self.num_stacks = num_stacks\n",
    "        self.size = size\n",
    "        self.stack = [None] * (num_stacks * size)\n",
    "        self.tops = [-1] * num_stacks\n",
    "    \n",
    "    def push(self, stack_num, value):\n",
    "        if self.tops[stack_num] < self.size - 1:\n",
    "            self.tops[stack_num] += 1\n",
    "            index = stack_num * self.size + self.tops[stack_num]\n",
    "            self.stack[index] = value\n",
    "        else:\n",
    "            print(f\"Stack {stack_num} is full.\")\n",
    "    \n",
    "    def pop(self, stack_num):\n",
    "        if self.tops[stack_num] >= 0:\n",
    "            index = stack_num * self.size + self.tops[stack_num]\n",
    "            value = self.stack[index]\n",
    "            self.stack[index] = None\n",
    "            self.tops[stack_num] -= 1\n",
    "            return value\n",
    "        else:\n",
    "            print(f\"Stack {stack_num} is empty.\")\n",
    "            return None\n",
    "    \n",
    "    def peek(self, stack_num):\n",
    "        if self.tops[stack_num] >= 0:\n",
    "            index = stack_num * self.size + self.tops[stack_num]\n",
    "            return self.stack[index]\n",
    "        else:\n",
    "            print(f\"Stack {stack_num} is empty.\")\n",
    "            return None\n",
    "    \n",
    "    def is_empty(self, stack_num):\n",
    "        return self.tops[stack_num] == -1\n",
    "\n",
    "multi_stack = MultipleStacks(3, 5)\n",
    "multi_stack.push(0, 10)\n",
    "multi_stack.push(1, 20)\n",
    "multi_stack.push(2, 30)\n",
    "\n",
    "print(\"Popped from stack 0:\", multi_stack.pop(0))  \n",
    "print(\"Popped from stack 1:\", multi_stack.pop(1))  \n",
    "print(\"Popped from stack 2:\", multi_stack.pop(2))  \n"
   ]
  }
 ],
 "metadata": {
  "kernelspec": {
   "display_name": "Python 3 (ipykernel)",
   "language": "python",
   "name": "python3"
  },
  "language_info": {
   "codemirror_mode": {
    "name": "ipython",
    "version": 3
   },
   "file_extension": ".py",
   "mimetype": "text/x-python",
   "name": "python",
   "nbconvert_exporter": "python",
   "pygments_lexer": "ipython3",
   "version": "3.12.4"
  }
 },
 "nbformat": 4,
 "nbformat_minor": 5
}
