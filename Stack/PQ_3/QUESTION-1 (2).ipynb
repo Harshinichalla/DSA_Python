{
 "cells": [
  {
   "cell_type": "markdown",
   "id": "5cc1de46-00ab-4bfa-b489-18a5fb7b2517",
   "metadata": {},
   "source": [
    "## QUESTION"
   ]
  },
  {
   "cell_type": "raw",
   "id": "b355def4-edf7-4749-b87f-e3b8ce6c7e5e",
   "metadata": {},
   "source": [
    "write a program to convert a postfix expression to its equivalentinfix expression."
   ]
  },
  {
   "cell_type": "markdown",
   "id": "bb1b4812-de01-486d-95d1-46a45f989534",
   "metadata": {},
   "source": [
    "## CODE"
   ]
  },
  {
   "cell_type": "code",
   "execution_count": 1,
   "id": "f7e9293b-f160-4a0d-83e0-e2d3032a08aa",
   "metadata": {},
   "outputs": [
    {
     "name": "stdout",
     "output_type": "stream",
     "text": [
      "Infix Expression: ((a+b)*c)\n",
      "Infix Expression: (a+(b+c))\n",
      "Infix Expression: ((a*b)+c)\n"
     ]
    }
   ],
   "source": [
    "def postfix_to_infix(expression):\n",
    "    stack = []\n",
    "    operators = set(['+', '-', '*', '/'])\n",
    "    \n",
    "    for char in expression:\n",
    "        if char not in operators:\n",
    "            stack.append(char)\n",
    "        else:\n",
    "            operand2 = stack.pop()\n",
    "            operand1 = stack.pop()\n",
    "            new_expr = f\"({operand1}{char}{operand2})\"\n",
    "            stack.append(new_expr)\n",
    "    \n",
    "    return stack[-1]\n",
    "postfix_expr1 = \"ab+c*\"\n",
    "postfix_expr2 = \"abc++\"\n",
    "postfix_expr3 = \"ab*c+\"\n",
    "\n",
    "print(\"Infix Expression:\", postfix_to_infix(postfix_expr1))  \n",
    "print(\"Infix Expression:\", postfix_to_infix(postfix_expr2))  \n",
    "print(\"Infix Expression:\", postfix_to_infix(postfix_expr3))  \n"
   ]
  }
 ],
 "metadata": {
  "kernelspec": {
   "display_name": "Python 3 (ipykernel)",
   "language": "python",
   "name": "python3"
  },
  "language_info": {
   "codemirror_mode": {
    "name": "ipython",
    "version": 3
   },
   "file_extension": ".py",
   "mimetype": "text/x-python",
   "name": "python",
   "nbconvert_exporter": "python",
   "pygments_lexer": "ipython3",
   "version": "3.12.4"
  }
 },
 "nbformat": 4,
 "nbformat_minor": 5
}
