{
 "cells": [
  {
   "cell_type": "markdown",
   "id": "2685237a-eaef-40fd-875f-4ab8fa936df6",
   "metadata": {},
   "source": [
    "## QUESTION"
   ]
  },
  {
   "cell_type": "raw",
   "id": "72539781-428f-47df-a46d-a2dae0bce863",
   "metadata": {},
   "source": [
    "Implement a Queue with Count of Specific Element:\n",
    "• Implement a queue using a list (or array) and write a function that returns the count of\n",
    "occurrences of a specific element in the queue. For example, if the queue is [1, 2, 3,\n",
    "2, 2] and the element is 2, the function should return 3"
   ]
  },
  {
   "cell_type": "markdown",
   "id": "8a127545-da40-4a65-85d2-ee10bd3ebb55",
   "metadata": {},
   "source": [
    "## CODE"
   ]
  },
  {
   "cell_type": "code",
   "execution_count": 3,
   "id": "f12279c2-6b9d-4815-8c64-9b8c506689e2",
   "metadata": {},
   "outputs": [
    {
     "name": "stdout",
     "output_type": "stream",
     "text": [
      "Queue: [1, 2, 3, 2, 2]\n",
      "Count of 2 in queue: 3\n"
     ]
    }
   ],
   "source": [
    "class Queue:\n",
    "    def __init__(self):\n",
    "        self.queue = []\n",
    "    def enqueue(self, item):\n",
    "        self.queue.append(item)\n",
    "    def dequeue(self):\n",
    "        if not self.is_empty():\n",
    "            return self.queue.pop(0)\n",
    "        else:\n",
    "            return \"Queue is empty\"\n",
    "    def is_empty(self):\n",
    "        return len(self.queue) == 0\n",
    "    def display(self):\n",
    "        print(\"Queue:\", self.queue)\n",
    "    def count_element(self, element):\n",
    "        return self.queue.count(element)\n",
    "q = Queue()\n",
    "q.enqueue(1)\n",
    "q.enqueue(2)\n",
    "q.enqueue(3)\n",
    "q.enqueue(2)\n",
    "q.enqueue(2)\n",
    "q.display()\n",
    "count = q.count_element(2)\n",
    "print(f\"Count of 2 in queue: {count}\")"
   ]
  }
 ],
 "metadata": {
  "kernelspec": {
   "display_name": "Python 3 (ipykernel)",
   "language": "python",
   "name": "python3"
  },
  "language_info": {
   "codemirror_mode": {
    "name": "ipython",
    "version": 3
   },
   "file_extension": ".py",
   "mimetype": "text/x-python",
   "name": "python",
   "nbconvert_exporter": "python",
   "pygments_lexer": "ipython3",
   "version": "3.12.4"
  }
 },
 "nbformat": 4,
 "nbformat_minor": 5
}
