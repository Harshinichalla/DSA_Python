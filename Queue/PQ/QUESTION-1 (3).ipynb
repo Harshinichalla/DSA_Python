{
 "cells": [
  {
   "cell_type": "markdown",
   "id": "0ce44c61-24d6-4011-83a7-65411319f523",
   "metadata": {},
   "source": [
    "## QUESTION"
   ]
  },
  {
   "cell_type": "raw",
   "id": "c4d029a6-3f13-4524-a04f-9adc55bb2931",
   "metadata": {},
   "source": [
    "Queue using Two Stacks (Array or List-based):\n",
    "• Implement a queue using two stacks. The queue should support the following\n",
    "operations:\n",
    "o enqueue(x): Add element x to the queue.\n",
    "o dequeue(): Remove and return the element at the front of the queue.\n",
    "o peek(): Return the front element without removing it.\n",
    "o is_empty(): Check if the queue is empty.\n",
    "• (Hint: You can implement this by using two stacks for enqueue and dequeue\n",
    "operations)."
   ]
  },
  {
   "cell_type": "markdown",
   "id": "ca83763c-1f16-4564-b0c4-992e9edd0377",
   "metadata": {},
   "source": [
    "## CODE"
   ]
  },
  {
   "cell_type": "code",
   "execution_count": 3,
   "id": "379a9cad-6cd2-4f18-921b-2412ce88c00c",
   "metadata": {},
   "outputs": [
    {
     "name": "stdout",
     "output_type": "stream",
     "text": [
      "Enqueued: 10\n",
      "Enqueued: 20\n",
      "Enqueued: 30\n",
      "Front element: 10\n",
      "Dequeued: 10\n",
      "Dequeued: 20\n",
      "False\n",
      "Dequeued: 30\n",
      "True\n"
     ]
    }
   ],
   "source": [
    "class QueueUsingStacks:\n",
    "    def __init__(self):\n",
    "        self.stack1 = []  \n",
    "        self.stack2 = []  \n",
    "\n",
    "    def enqueue(self, x):\n",
    "        \"\"\"Add an element to the queue\"\"\"\n",
    "        self.stack1.append(x)\n",
    "        print(f\"Enqueued: {x}\")\n",
    "\n",
    "    def dequeue(self):\n",
    "        \"\"\"Remove and return the front element\"\"\"\n",
    "        if self.is_empty():\n",
    "            return \"Queue is empty!\"\n",
    "\n",
    "        if not self.stack2:\n",
    "            while self.stack1:\n",
    "                self.stack2.append(self.stack1.pop())\n",
    "        \n",
    "        return f\"Dequeued: {self.stack2.pop()}\"\n",
    "\n",
    "    def peek(self):\n",
    "        \"\"\"Return the front element without removing it\"\"\"\n",
    "        if self.is_empty():\n",
    "            return \"Queue is empty!\"\n",
    "\n",
    "        if not self.stack2:\n",
    "            while self.stack1:\n",
    "                self.stack2.append(self.stack1.pop())\n",
    "        \n",
    "        return f\"Front element: {self.stack2[-1]}\"\n",
    "\n",
    "    def is_empty(self):\n",
    "        \"\"\"Check if the queue is empty\"\"\"\n",
    "        return len(self.stack1) == 0 and len(self.stack2) == 0\n",
    "\n",
    "queue = QueueUsingStacks()\n",
    "queue.enqueue(10)\n",
    "queue.enqueue(20)\n",
    "queue.enqueue(30)\n",
    "print(queue.peek())\n",
    "print(queue.dequeue())\n",
    "print(queue.dequeue())\n",
    "print(queue.is_empty())\n",
    "print(queue.dequeue())\n",
    "print(queue.is_empty())"
   ]
  }
 ],
 "metadata": {
  "kernelspec": {
   "display_name": "Python 3 (ipykernel)",
   "language": "python",
   "name": "python3"
  },
  "language_info": {
   "codemirror_mode": {
    "name": "ipython",
    "version": 3
   },
   "file_extension": ".py",
   "mimetype": "text/x-python",
   "name": "python",
   "nbconvert_exporter": "python",
   "pygments_lexer": "ipython3",
   "version": "3.12.4"
  }
 },
 "nbformat": 4,
 "nbformat_minor": 5
}
