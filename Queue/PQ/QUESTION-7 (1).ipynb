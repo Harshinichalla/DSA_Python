{
 "cells": [
  {
   "cell_type": "markdown",
   "id": "9feae9c6-6008-47e1-8f50-3ae3979299b3",
   "metadata": {},
   "source": [
    "## QUESTION"
   ]
  },
  {
   "cell_type": "raw",
   "id": "d5367c06-0e9d-4b67-acc8-6e59a91f82c8",
   "metadata": {},
   "source": [
    "Implement a Queue that Supports contains(x) Operation:\n",
    "• Implement a queue using a list (or linked list) that supports the enqueue(x),\n",
    "dequeue(), and contains(x) operations. The contains(x) operation should check\n",
    "whether a given element x exists in the queue."
   ]
  },
  {
   "cell_type": "markdown",
   "id": "4e923f66-c0a8-4a9c-a884-0bd6088ad558",
   "metadata": {},
   "source": [
    "## CODE"
   ]
  },
  {
   "cell_type": "code",
   "execution_count": 4,
   "id": "dba2f6b8-5d39-4bfe-acd6-748add533324",
   "metadata": {},
   "outputs": [
    {
     "name": "stdout",
     "output_type": "stream",
     "text": [
      "10 enqueued.\n",
      "20 enqueued.\n",
      "30 enqueued.\n",
      "Queue: [10, 20, 30]\n",
      "Contains 20? True\n",
      "Contains 40? False\n",
      "10 dequeued.\n",
      "Queue: [20, 30]\n"
     ]
    }
   ],
   "source": [
    "class Queue:\n",
    "    def __init__(self):\n",
    "        self.queue = []\n",
    "    def enqueue(self, item):\n",
    "        self.queue.append(item)\n",
    "        print(f\"{item} enqueued.\")\n",
    "    def dequeue(self):\n",
    "        if not self.is_empty():\n",
    "            removed_item = self.queue.pop(0)\n",
    "            print(f\"{removed_item} dequeued.\")\n",
    "            return removed_item\n",
    "        else:\n",
    "            print(\"Queue is empty.\")\n",
    "            return None\n",
    "    def is_empty(self):\n",
    "        return len(self.queue) == 0\n",
    "    def display(self):\n",
    "        print(\"Queue:\", self.queue)\n",
    "    def contains(self, item):\n",
    "        return item in self.queue\n",
    "q = Queue()\n",
    "q.enqueue(10)\n",
    "q.enqueue(20)\n",
    "q.enqueue(30)\n",
    "q.display()\n",
    "print(\"Contains 20?\", q.contains(20))\n",
    "print(\"Contains 40?\", q.contains(40))\n",
    "q.dequeue()\n",
    "q.display()"
   ]
  }
 ],
 "metadata": {
  "kernelspec": {
   "display_name": "Python 3 (ipykernel)",
   "language": "python",
   "name": "python3"
  },
  "language_info": {
   "codemirror_mode": {
    "name": "ipython",
    "version": 3
   },
   "file_extension": ".py",
   "mimetype": "text/x-python",
   "name": "python",
   "nbconvert_exporter": "python",
   "pygments_lexer": "ipython3",
   "version": "3.12.4"
  }
 },
 "nbformat": 4,
 "nbformat_minor": 5
}
