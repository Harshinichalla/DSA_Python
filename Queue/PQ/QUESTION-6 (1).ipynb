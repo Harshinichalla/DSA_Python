{
 "cells": [
  {
   "cell_type": "markdown",
   "id": "b3ca68b7-fbd0-43d1-8c0f-5a15c96002c9",
   "metadata": {},
   "source": [
    "## QUESTION"
   ]
  },
  {
   "cell_type": "raw",
   "id": "d6d6d202-4e61-4ccf-bea4-0b8d73db1c12",
   "metadata": {},
   "source": [
    "Implement a Queue to Reverse Words in a Sentence:\n",
    "• Write a function that takes a sentence as input, splits the sentence into words, and then\n",
    "uses a queue to reverse the order of the words. For example, for the input \"Hello\n",
    "World\", the output should be \"World Hello\""
   ]
  },
  {
   "cell_type": "markdown",
   "id": "d7b44150-31ef-4b7c-976d-e63f63bd5abe",
   "metadata": {},
   "source": [
    "## CODE"
   ]
  },
  {
   "cell_type": "code",
   "execution_count": 5,
   "id": "e823087b-3080-4296-be86-04a53b291fd8",
   "metadata": {},
   "outputs": [
    {
     "name": "stdout",
     "output_type": "stream",
     "text": [
      "Original Sentence: Hello World\n",
      "Reversed Sentence: World Hello\n"
     ]
    }
   ],
   "source": [
    "from collections import deque\n",
    "def reverse_words(sentence):\n",
    "    words = sentence.split()\n",
    "    queue = deque()\n",
    "    for word in words:\n",
    "        queue.append(word)\n",
    "    reversed_sentence = []\n",
    "    while queue:\n",
    "        reversed_sentence.append(queue.pop())\n",
    "    return ' '.join(reversed_sentence)\n",
    "input_sentence = \"Hello World\"\n",
    "output_sentence = reverse_words(input_sentence)\n",
    "print(\"Original Sentence:\", input_sentence)\n",
    "print(\"Reversed Sentence:\", output_sentence)"
   ]
  }
 ],
 "metadata": {
  "kernelspec": {
   "display_name": "Python 3 (ipykernel)",
   "language": "python",
   "name": "python3"
  },
  "language_info": {
   "codemirror_mode": {
    "name": "ipython",
    "version": 3
   },
   "file_extension": ".py",
   "mimetype": "text/x-python",
   "name": "python",
   "nbconvert_exporter": "python",
   "pygments_lexer": "ipython3",
   "version": "3.12.4"
  }
 },
 "nbformat": 4,
 "nbformat_minor": 5
}
