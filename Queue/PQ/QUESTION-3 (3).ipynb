{
 "cells": [
  {
   "cell_type": "markdown",
   "id": "ce38c66a-fe6b-41a1-b79d-bbafe9ba5067",
   "metadata": {},
   "source": [
    "## QUESTION"
   ]
  },
  {
   "cell_type": "raw",
   "id": "631b2e79-208b-48ff-8f2d-074d851ba24d",
   "metadata": {},
   "source": [
    "Design a Queue that Supports max() Operation:\n",
    "• Implement a queue using an array or linked list that supports the enqueue(x),\n",
    "dequeue(), and max() operations. The max() operation should return the maximum\n",
    "element in the queue in constant time (O(1))."
   ]
  },
  {
   "cell_type": "markdown",
   "id": "89f5bb02-dbf5-4f78-ab00-42c583a6a006",
   "metadata": {},
   "source": [
    "## CODE"
   ]
  },
  {
   "cell_type": "code",
   "execution_count": 3,
   "id": "b1bcb58e-f2ef-446e-8d72-5663f254d7ac",
   "metadata": {},
   "outputs": [
    {
     "name": "stdout",
     "output_type": "stream",
     "text": [
      "Enqueued: 3\n",
      "Enqueued: 1\n",
      "Enqueued: 5\n",
      "Enqueued: 2\n",
      "Queue: [3, 1, 5, 2]\n",
      "Current Max: 5\n",
      "Dequeued: 3\n",
      "Current Max: 5\n",
      "Dequeued: 1\n",
      "Queue: [5, 2]\n"
     ]
    }
   ],
   "source": [
    "from collections import deque\n",
    "\n",
    "class MaxQueue:\n",
    "    def __init__(self):\n",
    "        self.queue = deque()     \n",
    "        self.max_queue = deque() \n",
    "\n",
    "    def enqueue(self, x):\n",
    "        \"\"\"Add an element to the queue\"\"\"\n",
    "        self.queue.append(x)\n",
    "\n",
    "        while self.max_queue and self.max_queue[-1] < x:\n",
    "            self.max_queue.pop()\n",
    "\n",
    "        self.max_queue.append(x)\n",
    "        print(f\"Enqueued: {x}\")\n",
    "\n",
    "    def dequeue(self):\n",
    "        \"\"\"Remove and return the front element\"\"\"\n",
    "        if self.is_empty():\n",
    "            return \"Queue is empty!\"\n",
    "\n",
    "        item = self.queue.popleft()\n",
    "\n",
    "        if item == self.max_queue[0]:\n",
    "            self.max_queue.popleft()\n",
    "\n",
    "        return f\"Dequeued: {item}\"\n",
    "\n",
    "    def max(self):\n",
    "        \"\"\"Return the maximum element in the queue in O(1)\"\"\"\n",
    "        if self.is_empty():\n",
    "            return \"Queue is empty!\"\n",
    "        return f\"Current Max: {self.max_queue[0]}\"\n",
    "\n",
    "    def is_empty(self):\n",
    "        \"\"\"Check if the queue is empty\"\"\"\n",
    "        return len(self.queue) == 0\n",
    "\n",
    "    def display(self):\n",
    "        \"\"\"Display queue elements\"\"\"\n",
    "        print(\"Queue:\", list(self.queue))\n",
    "q = MaxQueue()\n",
    "q.enqueue(3)\n",
    "q.enqueue(1)\n",
    "q.enqueue(5)\n",
    "q.enqueue(2)\n",
    "q.display()\n",
    "print(q.max())\n",
    "print(q.dequeue())\n",
    "print(q.max())\n",
    "print(q.dequeue())\n",
    "q.display()"
   ]
  }
 ],
 "metadata": {
  "kernelspec": {
   "display_name": "Python 3 (ipykernel)",
   "language": "python",
   "name": "python3"
  },
  "language_info": {
   "codemirror_mode": {
    "name": "ipython",
    "version": 3
   },
   "file_extension": ".py",
   "mimetype": "text/x-python",
   "name": "python",
   "nbconvert_exporter": "python",
   "pygments_lexer": "ipython3",
   "version": "3.12.4"
  }
 },
 "nbformat": 4,
 "nbformat_minor": 5
}
