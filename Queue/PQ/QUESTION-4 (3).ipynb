{
 "cells": [
  {
   "cell_type": "markdown",
   "id": "a1610400-ef17-4f0f-89be-2347992de342",
   "metadata": {},
   "source": [
    "## QUESTION"
   ]
  },
  {
   "cell_type": "raw",
   "id": "eb16ea30-0330-46cc-9596-d66eea90d3c1",
   "metadata": {},
   "source": [
    "Merge Two Queues:\n",
    "• Given two queues, merge them into a single queue by alternating elements from each\n",
    "queue. For example, if queue1 = [1, 3, 5] and queue2 = [2, 4, 6], the merged\n",
    "queue should be [1, 2, 3, 4, 5, 6]"
   ]
  },
  {
   "cell_type": "markdown",
   "id": "29e07528-5236-47f6-bb02-1e205ffb53fb",
   "metadata": {},
   "source": [
    "## CODE"
   ]
  },
  {
   "cell_type": "code",
   "execution_count": 1,
   "id": "5fd5d374-81ec-4960-b44e-eb4b4373e4a1",
   "metadata": {},
   "outputs": [
    {
     "name": "stdout",
     "output_type": "stream",
     "text": [
      "Merged Queue: [1, 2, 3, 4, 5, 6]\n"
     ]
    }
   ],
   "source": [
    "from collections import deque\n",
    "def merge_queues(queue1, queue2):\n",
    "    merged_queue = deque()\n",
    "    while queue1 or queue2:\n",
    "        if queue1:\n",
    "            merged_queue.append(queue1.popleft())\n",
    "        if queue2:\n",
    "            merged_queue.append(queue2.popleft())\n",
    "    return merged_queue\n",
    "queue1 = deque([1, 3, 5])\n",
    "queue2 = deque([2, 4, 6])\n",
    "result = merge_queues(queue1, queue2)\n",
    "print(\"Merged Queue:\", list(result))"
   ]
  }
 ],
 "metadata": {
  "kernelspec": {
   "display_name": "Python 3 (ipykernel)",
   "language": "python",
   "name": "python3"
  },
  "language_info": {
   "codemirror_mode": {
    "name": "ipython",
    "version": 3
   },
   "file_extension": ".py",
   "mimetype": "text/x-python",
   "name": "python",
   "nbconvert_exporter": "python",
   "pygments_lexer": "ipython3",
   "version": "3.12.4"
  }
 },
 "nbformat": 4,
 "nbformat_minor": 5
}
