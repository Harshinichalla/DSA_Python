{
 "cells": [
  {
   "cell_type": "markdown",
   "id": "fccf1e1d-7b40-40de-9839-e126c82b00c9",
   "metadata": {},
   "source": [
    "## QUESTION"
   ]
  },
  {
   "cell_type": "raw",
   "id": "78a9945a-241b-4c66-b97e-ad3a5ee53491",
   "metadata": {},
   "source": [
    "Reverse a Queue Using Recursion:\n",
    "• Implement a queue using a linked list (or array) and write a function to reverse the\n",
    "elements of the queue using recursion. You should only use the basic queue operations\n",
    "like enqueue and dequeue."
   ]
  },
  {
   "cell_type": "markdown",
   "id": "7a722a78-3be6-44cb-a2d1-9e7734745eb8",
   "metadata": {},
   "source": [
    "## CODE"
   ]
  },
  {
   "cell_type": "code",
   "execution_count": 5,
   "id": "080bb957-5857-4b69-a6ce-fce4f675384d",
   "metadata": {},
   "outputs": [
    {
     "name": "stdout",
     "output_type": "stream",
     "text": [
      "Original Queue:\n",
      "Queue: [1, 2, 3, 4]\n",
      "Reversed Queue:\n",
      "Queue: [4, 3, 2, 1]\n"
     ]
    }
   ],
   "source": [
    "class Queue:\n",
    "    def __init__(self):\n",
    "        self.queue = []\n",
    "\n",
    "    def enqueue(self, item):\n",
    "        \"\"\"Add item to the queue\"\"\"\n",
    "        self.queue.append(item)\n",
    "\n",
    "    def dequeue(self):\n",
    "        \"\"\"Remove and return the front item\"\"\"\n",
    "        if self.is_empty():\n",
    "            return \"Queue is empty!\"\n",
    "        return self.queue.pop(0)\n",
    "\n",
    "    def is_empty(self):\n",
    "        \"\"\"Check if the queue is empty\"\"\"\n",
    "        return len(self.queue) == 0\n",
    "\n",
    "    def display(self):\n",
    "        \"\"\"Display queue elements\"\"\"\n",
    "        print(\"Queue:\", self.queue)\n",
    "\n",
    "def reverse_queue(q):\n",
    "    \"\"\"Reverse the queue using recursion\"\"\"\n",
    "    if q.is_empty():\n",
    "        return\n",
    "    item = q.dequeue()\n",
    "    reverse_queue(q)\n",
    "    q.enqueue(item)\n",
    "q = Queue()\n",
    "q.enqueue(1)\n",
    "q.enqueue(2)\n",
    "q.enqueue(3)\n",
    "q.enqueue(4)\n",
    "print(\"Original Queue:\")\n",
    "q.display()\n",
    "reverse_queue(q)\n",
    "print(\"Reversed Queue:\")\n",
    "q.display()"
   ]
  }
 ],
 "metadata": {
  "kernelspec": {
   "display_name": "Python 3 (ipykernel)",
   "language": "python",
   "name": "python3"
  },
  "language_info": {
   "codemirror_mode": {
    "name": "ipython",
    "version": 3
   },
   "file_extension": ".py",
   "mimetype": "text/x-python",
   "name": "python",
   "nbconvert_exporter": "python",
   "pygments_lexer": "ipython3",
   "version": "3.12.4"
  }
 },
 "nbformat": 4,
 "nbformat_minor": 5
}
