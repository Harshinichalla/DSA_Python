{
 "cells": [
  {
   "cell_type": "markdown",
   "id": "37f04ec2-dc84-4a4a-a424-307680502278",
   "metadata": {},
   "source": [
    "## CODE"
   ]
  },
  {
   "cell_type": "code",
   "execution_count": 1,
   "id": "16a4a383-ad13-46e8-8038-f2e6b80a4080",
   "metadata": {},
   "outputs": [
    {
     "name": "stdout",
     "output_type": "stream",
     "text": [
      "Program to implement Queue\n",
      "1.Enqueue\n",
      "2.Dequeue\n",
      "3.Peek\n",
      "4.Display\n",
      "5.Exit\n"
     ]
    },
    {
     "name": "stdin",
     "output_type": "stream",
     "text": [
      "Enter your choice: 1\n",
      "Enter the data: 10\n"
     ]
    },
    {
     "name": "stdout",
     "output_type": "stream",
     "text": [
      "Program to implement Queue\n",
      "1.Enqueue\n",
      "2.Dequeue\n",
      "3.Peek\n",
      "4.Display\n",
      "5.Exit\n"
     ]
    },
    {
     "name": "stdin",
     "output_type": "stream",
     "text": [
      "Enter your choice: 1\n",
      "Enter the data: 20\n"
     ]
    },
    {
     "name": "stdout",
     "output_type": "stream",
     "text": [
      "Program to implement Queue\n",
      "1.Enqueue\n",
      "2.Dequeue\n",
      "3.Peek\n",
      "4.Display\n",
      "5.Exit\n"
     ]
    },
    {
     "name": "stdin",
     "output_type": "stream",
     "text": [
      "Enter your choice: 1\n",
      "Enter the data: 30\n"
     ]
    },
    {
     "name": "stdout",
     "output_type": "stream",
     "text": [
      "Program to implement Queue\n",
      "1.Enqueue\n",
      "2.Dequeue\n",
      "3.Peek\n",
      "4.Display\n",
      "5.Exit\n"
     ]
    },
    {
     "name": "stdin",
     "output_type": "stream",
     "text": [
      "Enter your choice: 4\n"
     ]
    },
    {
     "name": "stdout",
     "output_type": "stream",
     "text": [
      "\n",
      "10\n",
      "20\n",
      "30\n",
      "None\n",
      "Program to implement Queue\n",
      "1.Enqueue\n",
      "2.Dequeue\n",
      "3.Peek\n",
      "4.Display\n",
      "5.Exit\n"
     ]
    },
    {
     "name": "stdin",
     "output_type": "stream",
     "text": [
      "Enter your choice: 2\n"
     ]
    },
    {
     "name": "stdout",
     "output_type": "stream",
     "text": [
      "Item dequeue: 10\n",
      "Program to implement Queue\n",
      "1.Enqueue\n",
      "2.Dequeue\n",
      "3.Peek\n",
      "4.Display\n",
      "5.Exit\n"
     ]
    },
    {
     "name": "stdin",
     "output_type": "stream",
     "text": [
      "Enter your choice: 3\n"
     ]
    },
    {
     "name": "stdout",
     "output_type": "stream",
     "text": [
      "Item at the front of the queue: False\n",
      "Program to implement Queue\n",
      "1.Enqueue\n",
      "2.Dequeue\n",
      "3.Peek\n",
      "4.Display\n",
      "5.Exit\n"
     ]
    },
    {
     "name": "stdin",
     "output_type": "stream",
     "text": [
      "Enter your choice: 5\n"
     ]
    },
    {
     "name": "stdout",
     "output_type": "stream",
     "text": [
      "\n",
      " Quitting.....\n"
     ]
    }
   ],
   "source": [
    "class Node:\n",
    "    def __init__(self,NewData,link):\n",
    "        self.data=NewData\n",
    "        self.next=link\n",
    "        \n",
    "class Queue:\n",
    "    def __init__(self):\n",
    "        self.front=None\n",
    "        self.rear=None\n",
    "        \n",
    "    def isempty(self):\n",
    "        return self.front is None\n",
    "        \n",
    "    def enqueue(self,NewData):\n",
    "        newNode=Node(NewData,None)\n",
    "        if self.front is None:\n",
    "            self.front=self.rear=newNode\n",
    "        else:\n",
    "            self.rear.next=newNode\n",
    "            self.rear=newNode\n",
    "            \n",
    "    def peek(self):\n",
    "        return self.front.data\n",
    "        \n",
    "    def dequeue(self):\n",
    "        frontNode=self.front\n",
    "        if self.front==self.rear:\n",
    "            self.front=self.rear=None\n",
    "        else:\n",
    "            self.front=frontNode.next\n",
    "        return frontNode.data\n",
    "        \n",
    "    def display(self):\n",
    "        curNode=self.front\n",
    "        print()\n",
    "        while curNode is not None:\n",
    "            print(curNode.data)\n",
    "            curNode=curNode.next\n",
    "        print(\"None\")\n",
    "        \n",
    "q=Queue()\n",
    "while(True):\n",
    "    print(\"Program to implement Queue\")\n",
    "    print(\"1.Enqueue\")\n",
    "    print(\"2.Dequeue\")\n",
    "    print(\"3.Peek\")\n",
    "    print(\"4.Display\")\n",
    "    print(\"5.Exit\")\n",
    "    choice=int(input(\"Enter your choice:\"))\n",
    "    if choice==1:\n",
    "        num=int(input(\"Enter the data:\"))\n",
    "        q.enqueue(num)\n",
    "    elif choice==2:\n",
    "        if q.isempty():\n",
    "            print(\"Queue underflow\")\n",
    "        else:\n",
    "            num=q.dequeue()\n",
    "            print(\"Item dequeue:\",num)\n",
    "    elif choice==3:\n",
    "        if q.isempty():\n",
    "            print(\"Queue underflow\")\n",
    "        else:\n",
    "            num=q.isempty()\n",
    "            print(\"Item at the front of the queue:\",num)\n",
    "    elif choice==4:\n",
    "        if q.isempty():\n",
    "            print(\"Queue is empty\")\n",
    "        else:\n",
    "            q.display()\n",
    "    elif choice==5:\n",
    "        print(\"\\n Quitting.....\")\n",
    "        break\n",
    "    else:\n",
    "        print(\"Invalid choice,please enter the correct choice\")\n",
    "        continue"
   ]
  },
  {
   "cell_type": "code",
   "execution_count": null,
   "id": "d5819854-77a3-4c34-aa4a-aa635cbac873",
   "metadata": {},
   "outputs": [],
   "source": []
  }
 ],
 "metadata": {
  "kernelspec": {
   "display_name": "Python 3 (ipykernel)",
   "language": "python",
   "name": "python3"
  },
  "language_info": {
   "codemirror_mode": {
    "name": "ipython",
    "version": 3
   },
   "file_extension": ".py",
   "mimetype": "text/x-python",
   "name": "python",
   "nbconvert_exporter": "python",
   "pygments_lexer": "ipython3",
   "version": "3.12.4"
  }
 },
 "nbformat": 4,
 "nbformat_minor": 5
}
