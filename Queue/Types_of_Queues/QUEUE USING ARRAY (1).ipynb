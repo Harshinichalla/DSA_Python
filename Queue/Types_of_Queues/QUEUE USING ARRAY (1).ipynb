{
 "cells": [
  {
   "cell_type": "code",
   "execution_count": 5,
   "id": "95548bc6-e3ec-43d1-878f-5711f173f25e",
   "metadata": {},
   "outputs": [],
   "source": [
    "import numpy as np"
   ]
  },
  {
   "cell_type": "code",
   "execution_count": 7,
   "id": "18a32327-43b2-489d-adda-46fdcbc5db89",
   "metadata": {},
   "outputs": [
    {
     "name": "stdout",
     "output_type": "stream",
     "text": [
      "10 added to the queue\n",
      "20 added to the queue\n",
      "30 added to the queue\n",
      "Queue Elements\n",
      "10 \n",
      "20 \n",
      "30 \n",
      "10 is removed from queue\n",
      "Queue Elements\n",
      "20 \n",
      "30 \n"
     ]
    }
   ],
   "source": [
    "class Queue:\n",
    "    def __init__(self,size):\n",
    "        self.front=-1\n",
    "        self.rear=-1\n",
    "        self.size=size\n",
    "        self.arr=np.empty(size,dtype=int)\n",
    "        \n",
    "    def isempty(self):\n",
    "        return self.front==-1\n",
    "        \n",
    "    def arr_size(self):\n",
    "        return len(self.arr)\n",
    "        \n",
    "    def isfull(self):\n",
    "        return self.rear==self.size-1\n",
    "        \n",
    "    def peek(self):\n",
    "        return self.arr[self.front]\n",
    "        \n",
    "    def enqueue(self,item):\n",
    "        if self.isfull():\n",
    "            print(\"Queue is full...!!\")\n",
    "        else:\n",
    "            if self.front==-1:\n",
    "                self.front=0\n",
    "            self.rear+=1\n",
    "            self.arr[self.rear]=item\n",
    "            print(f\"{item} added to the queue\")\n",
    "    def dequeue(self):\n",
    "        if self.isempty():\n",
    "            print(\"Queue is empty\")\n",
    "        else:\n",
    "            dequeue_item=self.arr[self.front]\n",
    "            if self.front==self.rear:\n",
    "                self.front=self.rear=-1\n",
    "            else:\n",
    "                self.front+=1\n",
    "            print(f\"{dequeue_item} is removed from queue\")\n",
    "            return dequeue_item\n",
    "    def display(self):\n",
    "        if self.isempty():\n",
    "            print(\"Queue is empty\")\n",
    "        else:\n",
    "            print(\"Queue Elements\")\n",
    "            for i in range(self.front,self.rear+1):\n",
    "                print(self.arr[i],end=\" \")\n",
    "                print()\n",
    "q=Queue(5)\n",
    "q.enqueue(10)\n",
    "q.enqueue(20)\n",
    "q.enqueue(30)\n",
    "q.display()\n",
    "q.dequeue()\n",
    "q.display()"
   ]
  },
  {
   "cell_type": "code",
   "execution_count": null,
   "id": "06e81995-7ab0-4dee-8682-53ecbe23e29a",
   "metadata": {},
   "outputs": [],
   "source": []
  }
 ],
 "metadata": {
  "kernelspec": {
   "display_name": "Python 3 (ipykernel)",
   "language": "python",
   "name": "python3"
  },
  "language_info": {
   "codemirror_mode": {
    "name": "ipython",
    "version": 3
   },
   "file_extension": ".py",
   "mimetype": "text/x-python",
   "name": "python",
   "nbconvert_exporter": "python",
   "pygments_lexer": "ipython3",
   "version": "3.12.4"
  }
 },
 "nbformat": 4,
 "nbformat_minor": 5
}
