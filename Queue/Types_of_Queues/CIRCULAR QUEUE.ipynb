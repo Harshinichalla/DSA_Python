{
 "cells": [
  {
   "cell_type": "code",
   "execution_count": 7,
   "id": "83c797bf-1e94-4a72-aa36-5e10da32b293",
   "metadata": {},
   "outputs": [
    {
     "name": "stdout",
     "output_type": "stream",
     "text": [
      "Program to implement circular queue\n",
      "1.Enqueue\n",
      "2.Dequeue\n",
      "3.Peek\n",
      "4.Display\n",
      "5.Exit\n"
     ]
    },
    {
     "name": "stdin",
     "output_type": "stream",
     "text": [
      "Enter your choice: 1\n",
      "Enter the data: 10\n"
     ]
    },
    {
     "name": "stdout",
     "output_type": "stream",
     "text": [
      "Program to implement circular queue\n",
      "1.Enqueue\n",
      "2.Dequeue\n",
      "3.Peek\n",
      "4.Display\n",
      "5.Exit\n"
     ]
    },
    {
     "name": "stdin",
     "output_type": "stream",
     "text": [
      "Enter your choice: 1\n",
      "Enter the data: 20\n"
     ]
    },
    {
     "name": "stdout",
     "output_type": "stream",
     "text": [
      "Program to implement circular queue\n",
      "1.Enqueue\n",
      "2.Dequeue\n",
      "3.Peek\n",
      "4.Display\n",
      "5.Exit\n"
     ]
    },
    {
     "name": "stdin",
     "output_type": "stream",
     "text": [
      "Enter your choice: 1\n",
      "Enter the data: 30\n"
     ]
    },
    {
     "name": "stdout",
     "output_type": "stream",
     "text": [
      "Program to implement circular queue\n",
      "1.Enqueue\n",
      "2.Dequeue\n",
      "3.Peek\n",
      "4.Display\n",
      "5.Exit\n"
     ]
    },
    {
     "name": "stdin",
     "output_type": "stream",
     "text": [
      "Enter your choice: 1\n",
      "Enter the data: 40\n"
     ]
    },
    {
     "name": "stdout",
     "output_type": "stream",
     "text": [
      "Program to implement circular queue\n",
      "1.Enqueue\n",
      "2.Dequeue\n",
      "3.Peek\n",
      "4.Display\n",
      "5.Exit\n"
     ]
    },
    {
     "name": "stdin",
     "output_type": "stream",
     "text": [
      "Enter your choice: 1\n",
      "Enter the data: 50\n"
     ]
    },
    {
     "name": "stdout",
     "output_type": "stream",
     "text": [
      "Program to implement circular queue\n",
      "1.Enqueue\n",
      "2.Dequeue\n",
      "3.Peek\n",
      "4.Display\n",
      "5.Exit\n"
     ]
    },
    {
     "name": "stdin",
     "output_type": "stream",
     "text": [
      "Enter your choice: 4\n"
     ]
    },
    {
     "name": "stdout",
     "output_type": "stream",
     "text": [
      "10->20->30->40->50\n",
      "Program to implement circular queue\n",
      "1.Enqueue\n",
      "2.Dequeue\n",
      "3.Peek\n",
      "4.Display\n",
      "5.Exit\n"
     ]
    },
    {
     "name": "stdin",
     "output_type": "stream",
     "text": [
      "Enter your choice: 2\n"
     ]
    },
    {
     "name": "stdout",
     "output_type": "stream",
     "text": [
      "Item dequeued: 10\n",
      "Program to implement circular queue\n",
      "1.Enqueue\n",
      "2.Dequeue\n",
      "3.Peek\n",
      "4.Display\n",
      "5.Exit\n"
     ]
    },
    {
     "name": "stdin",
     "output_type": "stream",
     "text": [
      "Enter your choice: 4\n"
     ]
    },
    {
     "name": "stdout",
     "output_type": "stream",
     "text": [
      "20->30->40->50\n",
      "Program to implement circular queue\n",
      "1.Enqueue\n",
      "2.Dequeue\n",
      "3.Peek\n",
      "4.Display\n",
      "5.Exit\n"
     ]
    },
    {
     "name": "stdin",
     "output_type": "stream",
     "text": [
      "Enter your choice: 3\n"
     ]
    },
    {
     "name": "stdout",
     "output_type": "stream",
     "text": [
      "Item at the front of the queue: 20\n",
      "Program to implement circular queue\n",
      "1.Enqueue\n",
      "2.Dequeue\n",
      "3.Peek\n",
      "4.Display\n",
      "5.Exit\n"
     ]
    },
    {
     "name": "stdin",
     "output_type": "stream",
     "text": [
      "Enter your choice: 4\n"
     ]
    },
    {
     "name": "stdout",
     "output_type": "stream",
     "text": [
      "20->30->40->50\n",
      "Program to implement circular queue\n",
      "1.Enqueue\n",
      "2.Dequeue\n",
      "3.Peek\n",
      "4.Display\n",
      "5.Exit\n"
     ]
    },
    {
     "name": "stdin",
     "output_type": "stream",
     "text": [
      "Enter your choice: 2\n"
     ]
    },
    {
     "name": "stdout",
     "output_type": "stream",
     "text": [
      "Item dequeued: 20\n",
      "Program to implement circular queue\n",
      "1.Enqueue\n",
      "2.Dequeue\n",
      "3.Peek\n",
      "4.Display\n",
      "5.Exit\n"
     ]
    },
    {
     "name": "stdin",
     "output_type": "stream",
     "text": [
      "Enter your choice: 4\n"
     ]
    },
    {
     "name": "stdout",
     "output_type": "stream",
     "text": [
      "30->40->50\n",
      "Program to implement circular queue\n",
      "1.Enqueue\n",
      "2.Dequeue\n",
      "3.Peek\n",
      "4.Display\n",
      "5.Exit\n"
     ]
    },
    {
     "name": "stdin",
     "output_type": "stream",
     "text": [
      "Enter your choice: 4\n"
     ]
    },
    {
     "name": "stdout",
     "output_type": "stream",
     "text": [
      "30->40->50\n",
      "Program to implement circular queue\n",
      "1.Enqueue\n",
      "2.Dequeue\n",
      "3.Peek\n",
      "4.Display\n",
      "5.Exit\n"
     ]
    },
    {
     "name": "stdin",
     "output_type": "stream",
     "text": [
      "Enter your choice: 5\n"
     ]
    },
    {
     "name": "stdout",
     "output_type": "stream",
     "text": [
      "\n",
      " Quitting.....\n"
     ]
    }
   ],
   "source": [
    "class Node:\n",
    "    def __init__(self,NewData,link):\n",
    "        self.data=NewData\n",
    "        self.next=link\n",
    "        \n",
    "class Circular_Queue:\n",
    "    def __init__(self):\n",
    "        self.tail=None\n",
    "        \n",
    "    def isempty(self):\n",
    "        return self.tail is None\n",
    "        \n",
    "    def enqueue(self,NewData):\n",
    "        newNode=Node(NewData,None)\n",
    "        if self.tail is None:\n",
    "            newNode.next=newNode\n",
    "        else:\n",
    "            newNode.next =self.tail.next\n",
    "            self.tail.next=newNode\n",
    "        self.tail=newNode\n",
    "    def peek(self):\n",
    "        return self.tail.next.data\n",
    "        \n",
    "    def dequeue(self):\n",
    "        frontNode=self.tail.next\n",
    "        if frontNode.next==frontNode:\n",
    "            self.tail=None\n",
    "        else:\n",
    "            self.tail.next =frontNode.next\n",
    "        return frontNode.data\n",
    "        \n",
    "    def display(self):\n",
    "        if self.isempty():\n",
    "            print(\"Queue is empty\")\n",
    "            return\n",
    "        curNode =self.tail.next\n",
    "        while curNode !=self.tail:\n",
    "            print(curNode.data,end=\"->\")\n",
    "            curNode=curNode.next\n",
    "        print(curNode.data)\n",
    "        \n",
    "q=Circular_Queue()\n",
    "while True:\n",
    "    print(\"Program to implement circular queue\")\n",
    "    print(\"1.Enqueue\")\n",
    "    print(\"2.Dequeue\")\n",
    "    print(\"3.Peek\")\n",
    "    print(\"4.Display\")\n",
    "    print(\"5.Exit\")\n",
    "    choice=int(input(\"Enter your choice:\"))\n",
    "    if choice==1:\n",
    "        num=int(input(\"Enter the data:\"))\n",
    "        q.enqueue(num)\n",
    "    elif choice==2:\n",
    "        if q.isempty():\n",
    "            print(\"Queue underflow\")\n",
    "        else:\n",
    "            num=q.dequeue()\n",
    "            print(\"Item dequeued:\",num)\n",
    "    elif choice==3:\n",
    "        if q.isempty():\n",
    "            print(\"Queue underflow\")\n",
    "        else:\n",
    "            num=q.peek()\n",
    "            print(\"Item at the front of the queue:\",num)\n",
    "    elif choice==4:\n",
    "        if q.isempty():\n",
    "            print(\"Queue is empty\")\n",
    "        else:\n",
    "            q.display()\n",
    "    elif choice==5:\n",
    "        print(\"\\n Quitting.....\")\n",
    "        break\n",
    "    else:\n",
    "        print(\"Invalid choice,please enter the correct choice\")\n",
    "        continue"
   ]
  },
  {
   "cell_type": "code",
   "execution_count": null,
   "id": "85dbb5b9-d25d-48ac-a6b2-2567b4db4d31",
   "metadata": {},
   "outputs": [],
   "source": []
  }
 ],
 "metadata": {
  "kernelspec": {
   "display_name": "Python 3 (ipykernel)",
   "language": "python",
   "name": "python3"
  },
  "language_info": {
   "codemirror_mode": {
    "name": "ipython",
    "version": 3
   },
   "file_extension": ".py",
   "mimetype": "text/x-python",
   "name": "python",
   "nbconvert_exporter": "python",
   "pygments_lexer": "ipython3",
   "version": "3.12.4"
  }
 },
 "nbformat": 4,
 "nbformat_minor": 5
}
