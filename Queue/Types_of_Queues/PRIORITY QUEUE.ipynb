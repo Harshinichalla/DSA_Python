{
 "cells": [
  {
   "cell_type": "markdown",
   "id": "a5d6e8aa-987e-4d1d-bac8-5bc5b788f485",
   "metadata": {},
   "source": [
    "## PRIORITY QUEUE"
   ]
  },
  {
   "cell_type": "raw",
   "id": "9a7e0be6-9a3a-4d6e-b8ad-c35173a33295",
   "metadata": {},
   "source": [
    "task priority    min priority      max priority\n",
    "    A    5             E                D\n",
    "    B    8             C                B\n",
    "    C    3             A                A\n",
    "    D    9             B                C\n",
    "    E    1             D                E"
   ]
  },
  {
   "cell_type": "markdown",
   "id": "30cdc365-ccab-442f-adae-b677f0161f48",
   "metadata": {},
   "source": [
    "## CODE"
   ]
  },
  {
   "cell_type": "code",
   "execution_count": 1,
   "id": "4a9b2c67-ab03-4a27-aad0-82dd41fd13ff",
   "metadata": {},
   "outputs": [
    {
     "name": "stdout",
     "output_type": "stream",
     "text": [
      "\n",
      "Program to implement Priority Queue:\n",
      "1. Enqueue\n",
      "2. Dequeue\n",
      "3. Peek\n",
      "4. Display\n",
      "5. Exit\n"
     ]
    },
    {
     "name": "stdin",
     "output_type": "stream",
     "text": [
      "Enter your choice:  1\n",
      "Enter the data:  10\n",
      "Enter the priority value:  1\n"
     ]
    },
    {
     "name": "stdout",
     "output_type": "stream",
     "text": [
      "\n",
      "Program to implement Priority Queue:\n",
      "1. Enqueue\n",
      "2. Dequeue\n",
      "3. Peek\n",
      "4. Display\n",
      "5. Exit\n"
     ]
    },
    {
     "name": "stdin",
     "output_type": "stream",
     "text": [
      "Enter your choice:  20\n"
     ]
    },
    {
     "name": "stdout",
     "output_type": "stream",
     "text": [
      "Invalid choice, please enter the correct choice\n",
      "\n",
      "Program to implement Priority Queue:\n",
      "1. Enqueue\n",
      "2. Dequeue\n",
      "3. Peek\n",
      "4. Display\n",
      "5. Exit\n"
     ]
    },
    {
     "name": "stdin",
     "output_type": "stream",
     "text": [
      "Enter your choice:  1\n",
      "Enter the data:  30\n",
      "Enter the priority value:  1\n"
     ]
    },
    {
     "name": "stdout",
     "output_type": "stream",
     "text": [
      "\n",
      "Program to implement Priority Queue:\n",
      "1. Enqueue\n",
      "2. Dequeue\n",
      "3. Peek\n",
      "4. Display\n",
      "5. Exit\n"
     ]
    },
    {
     "name": "stdin",
     "output_type": "stream",
     "text": [
      "Enter your choice:  40\n"
     ]
    },
    {
     "name": "stdout",
     "output_type": "stream",
     "text": [
      "Invalid choice, please enter the correct choice\n",
      "\n",
      "Program to implement Priority Queue:\n",
      "1. Enqueue\n",
      "2. Dequeue\n",
      "3. Peek\n",
      "4. Display\n",
      "5. Exit\n"
     ]
    },
    {
     "name": "stdin",
     "output_type": "stream",
     "text": [
      "Enter your choice:  1\n",
      "Enter the data:  50\n",
      "Enter the priority value:  2\n"
     ]
    },
    {
     "name": "stdout",
     "output_type": "stream",
     "text": [
      "\n",
      "Program to implement Priority Queue:\n",
      "1. Enqueue\n",
      "2. Dequeue\n",
      "3. Peek\n",
      "4. Display\n",
      "5. Exit\n"
     ]
    },
    {
     "name": "stdin",
     "output_type": "stream",
     "text": [
      "Enter your choice:  40\n"
     ]
    },
    {
     "name": "stdout",
     "output_type": "stream",
     "text": [
      "Invalid choice, please enter the correct choice\n",
      "\n",
      "Program to implement Priority Queue:\n",
      "1. Enqueue\n",
      "2. Dequeue\n",
      "3. Peek\n",
      "4. Display\n",
      "5. Exit\n"
     ]
    },
    {
     "name": "stdin",
     "output_type": "stream",
     "text": [
      "Enter your choice:  3\n"
     ]
    },
    {
     "name": "stdout",
     "output_type": "stream",
     "text": [
      "Item at the front of the queue: 10 with priority 1\n",
      "\n",
      "Program to implement Priority Queue:\n",
      "1. Enqueue\n",
      "2. Dequeue\n",
      "3. Peek\n",
      "4. Display\n",
      "5. Exit\n"
     ]
    },
    {
     "name": "stdin",
     "output_type": "stream",
     "text": [
      "Enter your choice:  4\n"
     ]
    },
    {
     "name": "stdout",
     "output_type": "stream",
     "text": [
      "Data: 10, Priority: 1\n",
      "Data: 30, Priority: 1\n",
      "Data: 50, Priority: 2\n",
      "\n",
      "Program to implement Priority Queue:\n",
      "1. Enqueue\n",
      "2. Dequeue\n",
      "3. Peek\n",
      "4. Display\n",
      "5. Exit\n"
     ]
    },
    {
     "name": "stdin",
     "output_type": "stream",
     "text": [
      "Enter your choice:  5\n"
     ]
    },
    {
     "name": "stdout",
     "output_type": "stream",
     "text": [
      "\n",
      "Quitting.....\n"
     ]
    }
   ],
   "source": [
    "class Node:\n",
    "    def __init__(self, data, priority):\n",
    "        self.data = data\n",
    "        self.priority = priority\n",
    "        self.next = None\n",
    "\n",
    "class PriorityQueue:\n",
    "    def __init__(self):\n",
    "        self.front = None\n",
    "\n",
    "    def isempty(self):\n",
    "        return self.front is None\n",
    "\n",
    "    def enqueue(self, newNode):\n",
    "        if self.isempty() or newNode.priority < self.front.priority:\n",
    "            newNode.next = self.front\n",
    "            self.front = newNode\n",
    "        else:\n",
    "            temp = self.front\n",
    "            while temp.next and temp.next.priority <= newNode.priority:\n",
    "                temp = temp.next\n",
    "            newNode.next = temp.next\n",
    "            temp.next = newNode\n",
    "\n",
    "    def dequeue(self):\n",
    "        if self.isempty():\n",
    "            return None\n",
    "        popNode = self.front\n",
    "        self.front = self.front.next\n",
    "        return popNode\n",
    "\n",
    "    def peek(self):\n",
    "        if self.isempty():\n",
    "            return None\n",
    "        return self.front\n",
    "\n",
    "    def display(self):\n",
    "        if self.isempty():\n",
    "            print(\"Queue is empty.\")\n",
    "        else:\n",
    "            temp = self.front\n",
    "            while temp:\n",
    "                print(f\"Data: {temp.data}, Priority: {temp.priority}\")\n",
    "                temp = temp.next\n",
    "\n",
    "# Create the priority queue object\n",
    "q = PriorityQueue()\n",
    "\n",
    "# Main menu loop\n",
    "while True:\n",
    "    print(\"\\nProgram to implement Priority Queue:\")\n",
    "    print(\"1. Enqueue\")\n",
    "    print(\"2. Dequeue\")\n",
    "    print(\"3. Peek\")\n",
    "    print(\"4. Display\")\n",
    "    print(\"5. Exit\")\n",
    "    choice = int(input(\"Enter your choice: \"))\n",
    "\n",
    "    if choice == 1:\n",
    "        num = int(input(\"Enter the data: \"))\n",
    "        prio = int(input(\"Enter the priority value: \"))\n",
    "        newNode = Node(num, prio)\n",
    "        q.enqueue(newNode)\n",
    "\n",
    "    elif choice == 2:\n",
    "        if q.isempty():\n",
    "            print(\"Queue underflow!\")\n",
    "        else:\n",
    "            popNode = q.dequeue()\n",
    "            print(\"Item dequeued:\", popNode.data, \"with priority\", popNode.priority)\n",
    "\n",
    "    elif choice == 3:\n",
    "        if q.isempty():\n",
    "            print(\"Queue underflow!\")\n",
    "        else:\n",
    "            popNode = q.peek()\n",
    "            print(\"Item at the front of the queue:\", popNode.data, \"with priority\", popNode.priority)\n",
    "\n",
    "    elif choice == 4:\n",
    "        if q.isempty():\n",
    "            print(\"Queue is empty\")\n",
    "        else:\n",
    "            q.display()\n",
    "\n",
    "    elif choice == 5:\n",
    "        print(\"\\nQuitting.....\")\n",
    "        break\n",
    "\n",
    "    else:\n",
    "        print(\"Invalid choice, please enter the correct choice\")\n"
   ]
  },
  {
   "cell_type": "code",
   "execution_count": null,
   "id": "bc74808f-b62a-4a47-8950-3555693d782e",
   "metadata": {},
   "outputs": [],
   "source": []
  }
 ],
 "metadata": {
  "kernelspec": {
   "display_name": "Python 3 (ipykernel)",
   "language": "python",
   "name": "python3"
  },
  "language_info": {
   "codemirror_mode": {
    "name": "ipython",
    "version": 3
   },
   "file_extension": ".py",
   "mimetype": "text/x-python",
   "name": "python",
   "nbconvert_exporter": "python",
   "pygments_lexer": "ipython3",
   "version": "3.12.4"
  }
 },
 "nbformat": 4,
 "nbformat_minor": 5
}
