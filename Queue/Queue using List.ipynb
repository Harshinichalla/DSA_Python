{
 "cells": [
  {
   "cell_type": "code",
   "execution_count": 1,
   "id": "3d4a49b1-08f4-439d-a314-86035714bf7c",
   "metadata": {},
   "outputs": [
    {
     "name": "stdout",
     "output_type": "stream",
     "text": [
      "Program to implement queue\n",
      "1.Enqueue\n",
      "2.Dequeue\n",
      "3.Peek\n",
      "4.Display\n",
      "5.Exit\n"
     ]
    },
    {
     "name": "stdin",
     "output_type": "stream",
     "text": [
      "Enter your choice: 1\n",
      "Enter the data: 10\n"
     ]
    },
    {
     "name": "stdout",
     "output_type": "stream",
     "text": [
      "Program to implement queue\n",
      "1.Enqueue\n",
      "2.Dequeue\n",
      "3.Peek\n",
      "4.Display\n",
      "5.Exit\n"
     ]
    },
    {
     "name": "stdin",
     "output_type": "stream",
     "text": [
      "Enter your choice: 4\n"
     ]
    },
    {
     "name": "stdout",
     "output_type": "stream",
     "text": [
      "10 Program to implement queue\n",
      "1.Enqueue\n",
      "2.Dequeue\n",
      "3.Peek\n",
      "4.Display\n",
      "5.Exit\n"
     ]
    },
    {
     "name": "stdin",
     "output_type": "stream",
     "text": [
      "Enter your choice: 2\n"
     ]
    },
    {
     "name": "stdout",
     "output_type": "stream",
     "text": [
      "Item dequeued:  10\n",
      "Program to implement queue\n",
      "1.Enqueue\n",
      "2.Dequeue\n",
      "3.Peek\n",
      "4.Display\n",
      "5.Exit\n"
     ]
    },
    {
     "name": "stdin",
     "output_type": "stream",
     "text": [
      "Enter your choice: 10\n"
     ]
    },
    {
     "name": "stdout",
     "output_type": "stream",
     "text": [
      "Invalid choice. Please enter the correct choice!\n",
      "Program to implement queue\n",
      "1.Enqueue\n",
      "2.Dequeue\n",
      "3.Peek\n",
      "4.Display\n",
      "5.Exit\n"
     ]
    },
    {
     "name": "stdin",
     "output_type": "stream",
     "text": [
      "Enter your choice: 5\n"
     ]
    },
    {
     "name": "stdout",
     "output_type": "stream",
     "text": [
      "\n",
      " Quitting......\n"
     ]
    }
   ],
   "source": [
    "class Queue:\n",
    "  def __init__(self):\n",
    "    self.items=[]\n",
    "  def isempty(self):\n",
    "    return self.items == []\n",
    "  def enqueue(self,item):\n",
    "    self.items.append(item)\n",
    "  def dequeue(self):\n",
    "    return self.items.pop(0)\n",
    "  def peek(self):\n",
    "    return self.items[0]\n",
    "  def size(self):\n",
    "    return len(self.items)\n",
    "  def display(self):\n",
    "    rear=len(self.items)\n",
    "    for i in range(rear):\n",
    "      print(self.items[i], end=\" \")\n",
    "\n",
    "q=Queue()\n",
    "while (True):\n",
    "  print(\"Program to implement queue\")\n",
    "  print(\"1.Enqueue\")\n",
    "  print(\"2.Dequeue\")\n",
    "  print(\"3.Peek\")\n",
    "  print(\"4.Display\")\n",
    "  print(\"5.Exit\")\n",
    "  choice=int(input(\"Enter your choice:\"))\n",
    "  if choice==1:\n",
    "    num=int(input(\"Enter the data:\"))\n",
    "    q.enqueue(num)\n",
    "  elif choice==2:\n",
    "    if q.isempty():\n",
    "      print(\"Queue underflow!!!\")\n",
    "    else:\n",
    "      num=q.dequeue()\n",
    "      print(\"Item dequeued: \",num)\n",
    "  elif choice==3:\n",
    "    if q.isempty():\n",
    "      print(\"Queue underflow!!!\")\n",
    "    else:\n",
    "      num=q.peek()\n",
    "      print(\"Item at the front of the queue:\",num)\n",
    "  elif choice==4:\n",
    "    if q.isempty():\n",
    "      print(\"Queue is empty!!!\")\n",
    "    else:\n",
    "      q.display()\n",
    "  elif choice==5:\n",
    "    print(\"\\n Quitting......\")\n",
    "    break\n",
    "  else:\n",
    "    print(\"Invalid choice. Please enter the correct choice!\")\n",
    "    continue"
   ]
  },
  {
   "cell_type": "code",
   "execution_count": null,
   "id": "2b13b277-8063-408a-ba36-92c1937ee752",
   "metadata": {},
   "outputs": [],
   "source": []
  }
 ],
 "metadata": {
  "kernelspec": {
   "display_name": "Python 3 (ipykernel)",
   "language": "python",
   "name": "python3"
  },
  "language_info": {
   "codemirror_mode": {
    "name": "ipython",
    "version": 3
   },
   "file_extension": ".py",
   "mimetype": "text/x-python",
   "name": "python",
   "nbconvert_exporter": "python",
   "pygments_lexer": "ipython3",
   "version": "3.12.4"
  }
 },
 "nbformat": 4,
 "nbformat_minor": 5
}
