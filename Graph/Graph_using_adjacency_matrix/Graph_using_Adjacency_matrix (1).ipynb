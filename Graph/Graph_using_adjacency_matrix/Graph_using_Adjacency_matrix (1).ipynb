{
 "cells": [
  {
   "cell_type": "code",
   "execution_count": 1,
   "id": "e3451a78-85f9-4cf2-9cce-6a6e70d20995",
   "metadata": {},
   "outputs": [
    {
     "name": "stdout",
     "output_type": "stream",
     "text": [
      "\n",
      "Program to implement graph using adjacency matrix\n",
      "1. Insert a vertex\n",
      "2. Insert an edge\n",
      "3. Remove a vertex\n",
      "4. Remove an edge\n",
      "5. Display\n",
      "6. Exit\n"
     ]
    },
    {
     "name": "stdin",
     "output_type": "stream",
     "text": [
      "Enter your choice:  1\n"
     ]
    },
    {
     "name": "stdout",
     "output_type": "stream",
     "text": [
      "\n",
      "Program to implement graph using adjacency matrix\n",
      "1. Insert a vertex\n",
      "2. Insert an edge\n",
      "3. Remove a vertex\n",
      "4. Remove an edge\n",
      "5. Display\n",
      "6. Exit\n"
     ]
    },
    {
     "name": "stdin",
     "output_type": "stream",
     "text": [
      "Enter your choice:  1\n"
     ]
    },
    {
     "name": "stdout",
     "output_type": "stream",
     "text": [
      "\n",
      "Program to implement graph using adjacency matrix\n",
      "1. Insert a vertex\n",
      "2. Insert an edge\n",
      "3. Remove a vertex\n",
      "4. Remove an edge\n",
      "5. Display\n",
      "6. Exit\n"
     ]
    },
    {
     "name": "stdin",
     "output_type": "stream",
     "text": [
      "Enter your choice:  2\n",
      "Enter source vertex:  10\n",
      "Enter end vertex:  20\n"
     ]
    },
    {
     "name": "stdout",
     "output_type": "stream",
     "text": [
      "Invalid vertex index\n",
      "\n",
      "Program to implement graph using adjacency matrix\n",
      "1. Insert a vertex\n",
      "2. Insert an edge\n",
      "3. Remove a vertex\n",
      "4. Remove an edge\n",
      "5. Display\n",
      "6. Exit\n"
     ]
    },
    {
     "name": "stdin",
     "output_type": "stream",
     "text": [
      "Enter your choice:  2\n",
      "Enter source vertex:  30\n",
      "Enter end vertex:  40\n"
     ]
    },
    {
     "name": "stdout",
     "output_type": "stream",
     "text": [
      "Invalid vertex index\n",
      "\n",
      "Program to implement graph using adjacency matrix\n",
      "1. Insert a vertex\n",
      "2. Insert an edge\n",
      "3. Remove a vertex\n",
      "4. Remove an edge\n",
      "5. Display\n",
      "6. Exit\n"
     ]
    },
    {
     "name": "stdin",
     "output_type": "stream",
     "text": [
      "Enter your choice:  5\n"
     ]
    },
    {
     "name": "stdout",
     "output_type": "stream",
     "text": [
      "v0| 0 0 |\n",
      "v1| 0 0 |\n",
      "\n",
      "Program to implement graph using adjacency matrix\n",
      "1. Insert a vertex\n",
      "2. Insert an edge\n",
      "3. Remove a vertex\n",
      "4. Remove an edge\n",
      "5. Display\n",
      "6. Exit\n"
     ]
    },
    {
     "name": "stdin",
     "output_type": "stream",
     "text": [
      "Enter your choice:  6\n"
     ]
    },
    {
     "name": "stdout",
     "output_type": "stream",
     "text": [
      "\n",
      "Quitting....\n"
     ]
    }
   ],
   "source": [
    "class Graph:\n",
    "    def __init__(self, size=0):\n",
    "        self.size = size\n",
    "        self.items = [[0 for i in range(size)] for j in range(size)]\n",
    "\n",
    "    def isempty(self):\n",
    "        return self.size == 0\n",
    "\n",
    "    def insert_vertex(self):  \n",
    "        for i in range(self.size):\n",
    "            self.items[i].append(0)\n",
    "        self.items.append([0 for i in range(self.size + 1)])\n",
    "        self.size += 1\n",
    "\n",
    "    def insert_edge(self, vi, vj):  \n",
    "        if vi >= self.size or vj >= self.size:\n",
    "            print(\"Invalid vertex index\")\n",
    "            return\n",
    "        self.items[vi][vj] = 1\n",
    "        self.items[vj][vi] = 1\n",
    "\n",
    "    def delete_vertex(self, v): \n",
    "        if v >= self.size:\n",
    "            print(\"Vertex not found\")\n",
    "            return\n",
    "        for i in range(self.size):\n",
    "            del self.items[i][v]\n",
    "        del self.items[v]\n",
    "        self.size -= 1\n",
    "        print(\"Vertex removed\")\n",
    "\n",
    "    def delete_edge(self, vi, vj):  \n",
    "        if vi >= self.size or vj >= self.size:\n",
    "            print(\"Vertex not found...\")\n",
    "            return\n",
    "        self.items[vi][vj] = 0\n",
    "        self.items[vj][vi] = 0\n",
    "        print(\"Edge removed!\")\n",
    "\n",
    "    def display(self):\n",
    "        for i in range(self.size):\n",
    "            print(\"v{}|\".format(i), end=\" \")\n",
    "            for j in range(self.size):\n",
    "                print(self.items[i][j], end=\" \")\n",
    "            print(\"|\")\n",
    "\n",
    "g = Graph()\n",
    "while True:\n",
    "    print(\"\\nProgram to implement graph using adjacency matrix\")\n",
    "    print(\"1. Insert a vertex\")\n",
    "    print(\"2. Insert an edge\")\n",
    "    print(\"3. Remove a vertex\")\n",
    "    print(\"4. Remove an edge\")\n",
    "    print(\"5. Display\")\n",
    "    print(\"6. Exit\")\n",
    "    choice = int(input(\"Enter your choice: \"))\n",
    "\n",
    "    if choice == 1:\n",
    "        g.insert_vertex()\n",
    "    elif choice == 2:\n",
    "        vs = int(input(\"Enter source vertex: \"))\n",
    "        ve = int(input(\"Enter end vertex: \"))\n",
    "        g.insert_edge(vs, ve)\n",
    "    elif choice == 3:\n",
    "        v = int(input(\"Enter the vertex: \"))\n",
    "        g.delete_vertex(v)\n",
    "    elif choice == 4:\n",
    "        vs = int(input(\"Enter source vertex: \"))\n",
    "        ve = int(input(\"Enter end vertex: \"))\n",
    "        g.delete_edge(vs, ve)\n",
    "    elif choice == 5:\n",
    "        if g.isempty():\n",
    "            print(\"Graph is empty!\")\n",
    "        else:\n",
    "            g.display()\n",
    "    elif choice == 6:\n",
    "        print(\"\\nQuitting....\")\n",
    "        break\n",
    "    else:\n",
    "        print(\"Invalid choice. Please enter correct choice!\")\n"
   ]
  },
  {
   "cell_type": "code",
   "execution_count": null,
   "id": "556a5576-f41d-4ed9-b2e4-c0de744f55be",
   "metadata": {},
   "outputs": [],
   "source": []
  }
 ],
 "metadata": {
  "kernelspec": {
   "display_name": "Python 3 (ipykernel)",
   "language": "python",
   "name": "python3"
  },
  "language_info": {
   "codemirror_mode": {
    "name": "ipython",
    "version": 3
   },
   "file_extension": ".py",
   "mimetype": "text/x-python",
   "name": "python",
   "nbconvert_exporter": "python",
   "pygments_lexer": "ipython3",
   "version": "3.12.4"
  }
 },
 "nbformat": 4,
 "nbformat_minor": 5
}
