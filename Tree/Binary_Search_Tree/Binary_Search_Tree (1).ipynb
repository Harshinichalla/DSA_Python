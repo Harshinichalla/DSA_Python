{
 "cells": [
  {
   "cell_type": "code",
   "execution_count": 1,
   "id": "7046878c-f41d-4c20-9508-525f54232631",
   "metadata": {},
   "outputs": [
    {
     "name": "stdout",
     "output_type": "stream",
     "text": [
      "Program to implement binary search tree\n",
      "1.Insert Node\n",
      "2.Preorder Traversal\n",
      "3.Inorder Traversal\n",
      "4.Postorder Traversal\n",
      "5.Delete a Node\n",
      "6.Search a Node\n",
      "7.Exit\n"
     ]
    },
    {
     "name": "stdin",
     "output_type": "stream",
     "text": [
      "Enter your choice: 1\n",
      "Enter the data: 10\n"
     ]
    },
    {
     "name": "stdout",
     "output_type": "stream",
     "text": [
      "Program to implement binary search tree\n",
      "1.Insert Node\n",
      "2.Preorder Traversal\n",
      "3.Inorder Traversal\n",
      "4.Postorder Traversal\n",
      "5.Delete a Node\n",
      "6.Search a Node\n",
      "7.Exit\n"
     ]
    },
    {
     "name": "stdin",
     "output_type": "stream",
     "text": [
      "Enter your choice: 1\n",
      "Enter the data: 20\n"
     ]
    },
    {
     "name": "stdout",
     "output_type": "stream",
     "text": [
      "Program to implement binary search tree\n",
      "1.Insert Node\n",
      "2.Preorder Traversal\n",
      "3.Inorder Traversal\n",
      "4.Postorder Traversal\n",
      "5.Delete a Node\n",
      "6.Search a Node\n",
      "7.Exit\n"
     ]
    },
    {
     "name": "stdin",
     "output_type": "stream",
     "text": [
      "Enter your choice: 1\n",
      "Enter the data: 30\n"
     ]
    },
    {
     "name": "stdout",
     "output_type": "stream",
     "text": [
      "Program to implement binary search tree\n",
      "1.Insert Node\n",
      "2.Preorder Traversal\n",
      "3.Inorder Traversal\n",
      "4.Postorder Traversal\n",
      "5.Delete a Node\n",
      "6.Search a Node\n",
      "7.Exit\n"
     ]
    },
    {
     "name": "stdin",
     "output_type": "stream",
     "text": [
      "Enter your choice: 1\n",
      "Enter the data: 40\n"
     ]
    },
    {
     "name": "stdout",
     "output_type": "stream",
     "text": [
      "Program to implement binary search tree\n",
      "1.Insert Node\n",
      "2.Preorder Traversal\n",
      "3.Inorder Traversal\n",
      "4.Postorder Traversal\n",
      "5.Delete a Node\n",
      "6.Search a Node\n",
      "7.Exit\n"
     ]
    },
    {
     "name": "stdin",
     "output_type": "stream",
     "text": [
      "Enter your choice: 1\n",
      "Enter the data: 50\n"
     ]
    },
    {
     "name": "stdout",
     "output_type": "stream",
     "text": [
      "Program to implement binary search tree\n",
      "1.Insert Node\n",
      "2.Preorder Traversal\n",
      "3.Inorder Traversal\n",
      "4.Postorder Traversal\n",
      "5.Delete a Node\n",
      "6.Search a Node\n",
      "7.Exit\n"
     ]
    },
    {
     "name": "stdin",
     "output_type": "stream",
     "text": [
      "Enter your choice: 2\n"
     ]
    },
    {
     "name": "stdout",
     "output_type": "stream",
     "text": [
      "Preorder: 10 20 30 40 50 \n",
      "Program to implement binary search tree\n",
      "1.Insert Node\n",
      "2.Preorder Traversal\n",
      "3.Inorder Traversal\n",
      "4.Postorder Traversal\n",
      "5.Delete a Node\n",
      "6.Search a Node\n",
      "7.Exit\n"
     ]
    },
    {
     "name": "stdin",
     "output_type": "stream",
     "text": [
      "Enter your choice: 3\n"
     ]
    },
    {
     "name": "stdout",
     "output_type": "stream",
     "text": [
      "Inorder: 10 20 30 40 50 \n",
      "Program to implement binary search tree\n",
      "1.Insert Node\n",
      "2.Preorder Traversal\n",
      "3.Inorder Traversal\n",
      "4.Postorder Traversal\n",
      "5.Delete a Node\n",
      "6.Search a Node\n",
      "7.Exit\n"
     ]
    },
    {
     "name": "stdin",
     "output_type": "stream",
     "text": [
      "Enter your choice: 4\n"
     ]
    },
    {
     "name": "stdout",
     "output_type": "stream",
     "text": [
      "Postorder: 50 40 30 20 10 \n",
      "Program to implement binary search tree\n",
      "1.Insert Node\n",
      "2.Preorder Traversal\n",
      "3.Inorder Traversal\n",
      "4.Postorder Traversal\n",
      "5.Delete a Node\n",
      "6.Search a Node\n",
      "7.Exit\n"
     ]
    },
    {
     "name": "stdin",
     "output_type": "stream",
     "text": [
      "Enter your choice: 5\n",
      "Enter the data you want to delete: 10\n"
     ]
    },
    {
     "name": "stdout",
     "output_type": "stream",
     "text": [
      "Program to implement binary search tree\n",
      "1.Insert Node\n",
      "2.Preorder Traversal\n",
      "3.Inorder Traversal\n",
      "4.Postorder Traversal\n",
      "5.Delete a Node\n",
      "6.Search a Node\n",
      "7.Exit\n"
     ]
    },
    {
     "name": "stdin",
     "output_type": "stream",
     "text": [
      "Enter your choice: 6\n",
      "Enter the data you want to search: 30\n"
     ]
    },
    {
     "name": "stdout",
     "output_type": "stream",
     "text": [
      "Node found!\n",
      "Program to implement binary search tree\n",
      "1.Insert Node\n",
      "2.Preorder Traversal\n",
      "3.Inorder Traversal\n",
      "4.Postorder Traversal\n",
      "5.Delete a Node\n",
      "6.Search a Node\n",
      "7.Exit\n"
     ]
    },
    {
     "name": "stdin",
     "output_type": "stream",
     "text": [
      "Enter your choice: 7\n"
     ]
    },
    {
     "name": "stdout",
     "output_type": "stream",
     "text": [
      "\n",
      "Quitting....\n"
     ]
    }
   ],
   "source": [
    "class Stack:\n",
    "    def __init__(self):\n",
    "        self.items = []\n",
    "\n",
    "    def isempty(self):\n",
    "        return len(self.items) == 0\n",
    "\n",
    "    def push(self, item):\n",
    "        self.items.append(item)\n",
    "\n",
    "    def pop(self):\n",
    "        if not self.isempty():\n",
    "            return self.items.pop()\n",
    "        return None\n",
    "\n",
    "    def peek(self):\n",
    "        if not self.isempty():\n",
    "            return self.items[-1]\n",
    "        return None\n",
    "\n",
    "class TreeNode:\n",
    "    def __init__(self, Newdata=None, lchild=None, rchild=None):\n",
    "        self.left = lchild\n",
    "        self.data = Newdata\n",
    "        self.right = rchild\n",
    "\n",
    "class BST:\n",
    "    def __init__(self):\n",
    "        self.root = None\n",
    "\n",
    "    def insert(self, newData):\n",
    "        newNode = TreeNode(newData)\n",
    "        if self.root is None:\n",
    "            self.root = newNode\n",
    "        else:\n",
    "            curNode = self.root\n",
    "            parentNode = None\n",
    "            while curNode is not None:\n",
    "                parentNode = curNode\n",
    "                if newData < curNode.data:\n",
    "                    curNode = curNode.left\n",
    "                else:\n",
    "                    curNode = curNode.right\n",
    "            if newData < parentNode.data:\n",
    "                parentNode.left = newNode\n",
    "            else:\n",
    "                parentNode.right = newNode\n",
    "\n",
    "    def preorder(self):\n",
    "        st = Stack()\n",
    "        curNode = self.root\n",
    "        while curNode is not None:\n",
    "            print(curNode.data, end=\" \")\n",
    "            if curNode.right:\n",
    "                st.push(curNode.right)\n",
    "            curNode = curNode.left\n",
    "            if curNode is None and not st.isempty():\n",
    "                curNode = st.pop()\n",
    "\n",
    "    def inorder(self):\n",
    "        st = Stack()\n",
    "        curNode = self.root\n",
    "        while curNode is not None or not st.isempty():\n",
    "            while curNode is not None:\n",
    "                st.push(curNode)\n",
    "                curNode = curNode.left\n",
    "            curNode = st.pop()\n",
    "            print(curNode.data, end=\" \")\n",
    "            curNode = curNode.right\n",
    "\n",
    "    def postorder(self):\n",
    "        st = Stack()\n",
    "        curNode = self.root\n",
    "        if curNode is None:\n",
    "            return\n",
    "        while True:\n",
    "            while curNode is not None:\n",
    "                if curNode.right:\n",
    "                    st.push(curNode.right)\n",
    "                st.push(curNode)\n",
    "                curNode = curNode.left\n",
    "            curNode = st.pop()\n",
    "            if curNode.right and st.peek() == curNode.right:\n",
    "                st.pop()\n",
    "                st.push(curNode)\n",
    "                curNode = curNode.right\n",
    "            else:\n",
    "                print(curNode.data, end=\" \")\n",
    "                curNode = None\n",
    "            if st.isempty():\n",
    "                break\n",
    "\n",
    "    def findNodeWithParent(self, key):\n",
    "        parent = None\n",
    "        curNode = self.root\n",
    "        while curNode is not None:\n",
    "            if key == curNode.data:\n",
    "                return parent, curNode\n",
    "            elif key < curNode.data:\n",
    "                parent = curNode\n",
    "                curNode = curNode.left\n",
    "            else:\n",
    "                parent = curNode\n",
    "                curNode = curNode.right\n",
    "        return parent, None\n",
    "\n",
    "    def delete(self, key):\n",
    "        parent, curNode = self.findNodeWithParent(key)\n",
    "        if curNode is None:\n",
    "            print(\"Node not Found!\")\n",
    "            return\n",
    "        if curNode.left is None and curNode.right is None:  # No children\n",
    "            if parent:\n",
    "                if parent.left == curNode:\n",
    "                    parent.left = None\n",
    "                else:\n",
    "                    parent.right = None\n",
    "            else:\n",
    "                self.root = None\n",
    "        elif curNode.left is None or curNode.right is None:  # One child\n",
    "            childNode = curNode.left if curNode.left else curNode.right\n",
    "            if parent:\n",
    "                if parent.left == curNode:\n",
    "                    parent.left = childNode\n",
    "                else:\n",
    "                    parent.right = childNode\n",
    "            else:\n",
    "                self.root = childNode\n",
    "        else:  # Two children\n",
    "            parentLeft = curNode\n",
    "            largestLeft = curNode.left\n",
    "            while largestLeft.right is not None:\n",
    "                parentLeft = largestLeft\n",
    "                largestLeft = largestLeft.right\n",
    "            curNode.data = largestLeft.data\n",
    "            if parentLeft.right == largestLeft:\n",
    "                parentLeft.right = largestLeft.left\n",
    "            else:\n",
    "                parentLeft.left = largestLeft.left\n",
    "\n",
    "    def search(self, key):\n",
    "        curNode = self.root\n",
    "        while curNode is not None:\n",
    "            if key == curNode.data:\n",
    "                return curNode\n",
    "            elif key < curNode.data:\n",
    "                curNode = curNode.left\n",
    "            else:\n",
    "                curNode = curNode.right\n",
    "        return None\n",
    "\n",
    "# Driver code\n",
    "bst = BST()\n",
    "while True:\n",
    "    print(\"Program to implement binary search tree\")\n",
    "    print(\"1.Insert Node\")\n",
    "    print(\"2.Preorder Traversal\")\n",
    "    print(\"3.Inorder Traversal\")\n",
    "    print(\"4.Postorder Traversal\")\n",
    "    print(\"5.Delete a Node\")\n",
    "    print(\"6.Search a Node\")\n",
    "    print(\"7.Exit\")\n",
    "    choice = int(input(\"Enter your choice:\"))\n",
    "\n",
    "    if choice == 1:\n",
    "        num = int(input(\"Enter the data:\"))\n",
    "        bst.insert(num)\n",
    "\n",
    "    elif choice == 2:\n",
    "        print(\"Preorder:\", end=\" \")\n",
    "        bst.preorder()\n",
    "        print()\n",
    "\n",
    "    elif choice == 3:\n",
    "        print(\"Inorder:\", end=\" \")\n",
    "        bst.inorder()\n",
    "        print()\n",
    "\n",
    "    elif choice == 4:\n",
    "        print(\"Postorder:\", end=\" \")\n",
    "        bst.postorder()\n",
    "        print()\n",
    "\n",
    "    elif choice == 5:\n",
    "        num = int(input(\"Enter the data you want to delete:\"))\n",
    "        bst.delete(num)\n",
    "\n",
    "    elif choice == 6:\n",
    "        num = int(input(\"Enter the data you want to search:\"))\n",
    "        findNode = bst.search(num)\n",
    "        if findNode is None:\n",
    "            print(\"Node not found!\")\n",
    "        else:\n",
    "            print(\"Node found!\")\n",
    "\n",
    "    elif choice == 7:\n",
    "        print(\"\\nQuitting....\")\n",
    "        break\n",
    "\n",
    "    else:\n",
    "        print(\"Invalid choice! Please enter the correct choice!\")\n",
    "        continue\n"
   ]
  },
  {
   "cell_type": "code",
   "execution_count": null,
   "id": "792a0d86-777c-4c66-8828-ceb8debb8ae8",
   "metadata": {},
   "outputs": [],
   "source": []
  }
 ],
 "metadata": {
  "kernelspec": {
   "display_name": "Python 3 (ipykernel)",
   "language": "python",
   "name": "python3"
  },
  "language_info": {
   "codemirror_mode": {
    "name": "ipython",
    "version": 3
   },
   "file_extension": ".py",
   "mimetype": "text/x-python",
   "name": "python",
   "nbconvert_exporter": "python",
   "pygments_lexer": "ipython3",
   "version": "3.12.4"
  }
 },
 "nbformat": 4,
 "nbformat_minor": 5
}
